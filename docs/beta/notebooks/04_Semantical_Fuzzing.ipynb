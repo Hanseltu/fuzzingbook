{
 "cells": [
  {
   "cell_type": "markdown",
   "metadata": {
    "button": false,
    "new_sheet": false,
    "run_control": {
     "read_only": false
    },
    "slideshow": {
     "slide_type": "slide"
    }
   },
   "source": [
    "# Part IV: 语义模糊测试\n",
    "\n",
    "本部分介绍了将输入的_语义_考虑在内的测试用例生成技术，尤其是处理输入程序行为的测试用例生成。\n",
    "\n",
    "* [挖掘输入语法](GrammarMiner.ipynb) 展示了如何通过分析处理输入的各个部分来从程序中提取输入语法。并且生成的语法可以直接用于模糊测试。\n",
    "\n",
    "* [跟踪信息流](InformationFlow.ipynb) 展示了如何跟踪整个程序的输入，以发现信息泄漏并进一步改进分析的技术。\n",
    "\n",
    "* [混合执行的模糊测试](ConcolicFuzzer.ipynb) 分析程序代码以解决程序中的“路径约束”爆炸问题，以涵盖难以实现的分支和行为。\n",
    "\n",
    "* [符号执行的模糊测试](SymbolicFuzzer.ipynb) 和混合执行类似，但是不需要执行任何代码。\n",
    "\n",
    "* [挖掘函数特性](DynamicInvariants.ipynb) 从程序执行中提取类型信息以及前提条件和后置条件–任何对程序分析，测试和验证有用的信息都jiang。\n",
    "\n",
    "extracts type information as well as pre- and postconditions from program executions – useful information for program analysis, testing, and verification.\n"
   ]
  }
 ],
 "metadata": {
  "ipub": {
   "bibliography": "fuzzingbook.bib",
   "toc": true
  },
  "kernelspec": {
   "display_name": "Python 3",
   "language": "python",
   "name": "python3"
  },
  "language_info": {
   "codemirror_mode": {
    "name": "ipython",
    "version": 3
   },
   "file_extension": ".py",
   "mimetype": "text/x-python",
   "name": "python",
   "nbconvert_exporter": "python",
   "pygments_lexer": "ipython3",
   "version": "3.7.1"
  },
  "toc": {
   "base_numbering": 1,
   "nav_menu": {},
   "number_sections": true,
   "sideBar": true,
   "skip_h1_title": true,
   "title_cell": "",
   "title_sidebar": "Contents",
   "toc_cell": false,
   "toc_position": {},
   "toc_section_display": true,
   "toc_window_display": true
  },
  "toc-autonumbering": false
 },
 "nbformat": 4,
 "nbformat_minor": 2
}
