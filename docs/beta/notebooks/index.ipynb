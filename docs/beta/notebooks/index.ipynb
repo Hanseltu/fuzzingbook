{
 "cells": [
  {
   "cell_type": "markdown",
   "metadata": {
    "slideshow": {
     "slide_type": "slide"
    }
   },
   "source": [
    "# 关于本书\n",
    "\n",
    "__欢迎来到 \"The Fuzzing Book\"!__ \n",
    "\n",
    "\n",
    "软件有bug，找到它们通常需要很大的努力。本书将通过 _自动化软件测试，尤其是自动生成测试用例技术_ 来解决这个问题。近年来，许多新颖的技术使得测试用例生成和软件测试技术有了很大啊的提高。现在这些技术已经足够成熟，我们可以把它们总结成书，并且附带相关代码。"
   ]
  },
  {
   "cell_type": "code",
   "execution_count": null,
   "metadata": {
    "slideshow": {
     "slide_type": "skip"
    }
   },
   "outputs": [],
   "source": [
    "# 国内原因，视频可能播放不出\n",
    "from fuzzingbook_utils import YouTubeVideo\n",
    "YouTubeVideo(\"w4u5gCgPlmg\")"
   ]
  },
  {
   "cell_type": "markdown",
   "metadata": {
    "slideshow": {
     "slide_type": "slide"
    }
   },
   "source": [
    "## 一本多功能的教科书\n",
    "\n",
    "你可以通过四种方式使用本书:\n",
    "\n",
    "* 你可以 __在浏览器中阅读本书__ 。请查看上方菜单中的章节列表，或立即从 [introduction to testing](Intro_Testing.ipynb) 或者[introduction to fuzzing](Fuzzer.ipynb)开始阅读。另外，所有的代码都可供下载。\n",
    "\n",
    "* 你可以 __使用Jupyter Notebooks交互阅读__ (测试版)。这个方法可以让你随意编写并且扩展代码， _在你的浏览器上_ 直接实验。只需选择每章节上方的 \"Resources $\\rightarrow$ Edit as Notebook\". <a href=\"https://mybinder.org/v2/gh/uds-se/fuzzingbook/master?filepath=docs/notebooks/Fuzzer.ipynb\" target=_blank>Try interacting with the introduction to fuzzing.</a>\n",
    "\n",
    "* 你可以 __在你的项目中使用这些代码__ 。你可以下载Python程序; 只需选择每章节的 \"Resources $\\rightarrow$ Download Code\" 或者所有章节代码 \"Resources $\\rightarrow$ Download all codes\"。你可以执行这些代码文件，并且（希望）它将产生预期的结果。甚至可以再简单点，直接: [Install the fuzzingbook Python package](Importing.ipynb).\n",
    "\n",
    "* 你可以 __使用slides演示各章节内容__ 。 这个方法可以让你在课堂上展示本书的内容。只需选择在每章节上方的 \"Resources $\\rightarrow$ View slides\"。 <a href=\"https://www.fuzzingbook.org/slides/Fuzzer.slides.html\" target=_blank>Try viewing the slides for the introduction to fuzzing.</a>"
   ]
  },
  {
   "cell_type": "markdown",
   "metadata": {
    "slideshow": {
     "slide_type": "slide"
    }
   },
   "source": [
    "## 这本书为谁而写\n",
    "\n",
    "这个工作可以作为软件测试课程的 _教科书_ ; 可以作为软件工程或者软件测试的一个 _补充材料_ ; 也可以当做 _软件开发者的资源_ 。本书介绍了随机模糊测试，基于变异的模糊测试，基于语法的测试用例生成，符号执行等等技术，你可以执行各项技术的实例代码以便更好地理解某项技术。"
   ]
  },
  {
   "cell_type": "markdown",
   "metadata": {
    "slideshow": {
     "slide_type": "slide"
    }
   },
   "source": [
    "## 新闻\n",
    "\n",
    "本书处理 _正在编写_ 的流程中。现在计划中的所有章节都已发布，但我们会继续通过 [minor and major releases](ReleaseNotes.ipynb)进行修改。为了获取更新的最新消息，你可以关注 <a href=\"https://twitter.com/FuzzingBook?ref_src=twsrc%5Etfw\" data-show-count=\"false\">Twitter主页</a>，\n",
    "<a class=\"twitter-timeline\" data-width=\"500\" data-chrome=\"noheader nofooter noborders transparent\" data-link-color=\"#A93226\" data-align=\"center\" href=\"https://twitter.com/FuzzingBook?ref_src=twsrc%5Etfw\">News from @FuzzingBook</a> <script async src=\"https://platform.twitter.com/widgets.js\" charset=\"utf-8\"></script>。\n"
   ]
  },
  {
   "cell_type": "markdown",
   "metadata": {
    "slideshow": {
     "slide_type": "slide"
    }
   },
   "source": [
    "## 关于本书作者\n",
    "\n",
    "本书由 _Andreas Zeller, Rahul Gopinath, Marcel Böhme, Gordon Fraser, and Christian Holler_ 共同编写完成。 我们都是长期从事软件测试和测试用例生成方面的研究专家； 并且我们已经为大家做了一些最重要的测试用例生成器和模糊器撰写的工作。 \n",
    "例如，如果你是在Firefox，Chrome或Edge Web浏览器中阅读此书，能够保证你可以安全地操作浏览器是因为这样做是因为_此书中列出的技术到目前为止已在其JavaScript解释器中发现了2,600多个错误_ ，我们很乐意分享我们的专业知识，并使公众可以使用。"
   ]
  },
  {
   "cell_type": "markdown",
   "metadata": {
    "slideshow": {
     "slide_type": "slide"
    }
   },
   "source": [
    "## 常见的问题"
   ]
  },
  {
   "cell_type": "markdown",
   "metadata": {
    "slideshow": {
     "slide_type": "subslide"
    }
   },
   "source": [
    "### 排疑解难类"
   ]
  },
  {
   "cell_type": "markdown",
   "metadata": {
    "slideshow": {
     "slide_type": "subslide"
    }
   },
   "source": [
    "#### 为什么打开交互式的 jupyter notebook很慢?\n",
    "\n",
    "The interactive notebook uses the [mybinder.org](https://mybinder.org) service, which runs notebooks on their own servers.  Starting Jupyter through mybinder.org normally takes about 30 seconds, depending on your Internet connection. If, however, you are the first to invoke binder after a book update, binder recreates its environment, which will take a few minutes.  Reload the page occasionally."
   ]
  },
  {
   "cell_type": "markdown",
   "metadata": {
    "slideshow": {
     "slide_type": "subslide"
    }
   },
   "source": [
    "#### 交互式的 jupyter notebook 不能用怎么办!\n",
    "\n",
    "mybinder.org imposes a [limit of 100 concurrent users for a repository](https://mybinder.readthedocs.io/en/latest/user-guidelines.html).  Also, as listed on the [mybinder.org status and reliability page](https://mybinder.readthedocs.io/en/latest/reliability.html),\n",
    "\n",
    "> As mybinder.org is a research pilot project, the main goal for the project is to understand usage patterns and workloads for future project evolution. While we strive for site reliability and availability, we want our users to understand the intent of this service is research and we offer no guarantees of its performance in mission critical uses."
   ]
  },
  {
   "cell_type": "markdown",
   "metadata": {
    "slideshow": {
     "slide_type": "fragment"
    }
   },
   "source": [
    "There are alternatives to mybinder.org; see below."
   ]
  },
  {
   "cell_type": "markdown",
   "metadata": {
    "slideshow": {
     "slide_type": "subslide"
    }
   },
   "source": [
    "#### 有其他可以替代 jupyter notebook的软件吗?\n",
    "\n",
    "If mybinder.org does not work or match your needs, you have a number of alternatives:\n",
    "\n",
    "1. **Download the Python code** (using the menu at the top) and edit and run it in your favorite environment.  This is easy to do and does not require lots of resources.\n",
    "\n",
    "2. **Download the Jupyter Notebooks** (using the menu at the top) and open them in Jupyter.  Here's [how to install jupyter notebook on your machine](https://www.dataquest.io/blog/jupyter-notebook-tutorial/).\n",
    "\n",
    "3. **Run the notebook locally** in a Docker container. For more information, see [How to use the book with Docker](https://github.com/uds-se/fuzzingbook/blob/master/deploy/README.md).  \n",
    "\n",
    "4. If you want to use the book in a classroom, and depend on your users having access to the interactive notebooks, consider using or deploying a [JupyterHub](http://jupyter.org/hub) or [BinderHub](https://github.com/jupyterhub/binderhub) instance."
   ]
  },
  {
   "cell_type": "markdown",
   "metadata": {
    "slideshow": {
     "slide_type": "subslide"
    }
   },
   "source": [
    "#### 我可以在Windows电脑上执行本书代码吗?"
   ]
  },
  {
   "cell_type": "markdown",
   "metadata": {
    "slideshow": {
     "slide_type": "fragment"
    }
   },
   "source": [
    "We try to keep the code as general as possible, but occasionally, when we interact with the operating system, we assume a Unix-like environment (because that is what Binder provides).  To run these examples on your own Windows machine, you can install a Linux VM or a [Docker environment](https://github.com/uds-se/fuzzingbook/blob/master/deploy/README.md)."
   ]
  },
  {
   "cell_type": "markdown",
   "metadata": {
    "slideshow": {
     "slide_type": "subslide"
    }
   },
   "source": [
    "#### 不能运行你自己的专用云服务?\n",
    "\n",
    "Technically, yes; but this would cost money and effort, which we'd rather spend on the book at this point.  If you'd like to host a [JupyterHub](http://jupyter.org/hub) or [BinderHub](https://github.com/jupyterhub/binderhub) instance for the public, please _do so_ and let us know."
   ]
  },
  {
   "cell_type": "markdown",
   "metadata": {
    "slideshow": {
     "slide_type": "subslide"
    }
   },
   "source": [
    "### 目录类"
   ]
  },
  {
   "cell_type": "markdown",
   "metadata": {
    "slideshow": {
     "slide_type": "subslide"
    }
   },
   "source": [
    "#### 我可以在我的项目中使用本书代码吗?\n",
    "\n",
    "Yes!  See the [installation instructions](Importing.ipynb) for details."
   ]
  },
  {
   "cell_type": "markdown",
   "metadata": {
    "slideshow": {
     "slide_type": "subslide"
    }
   },
   "source": [
    "#### 已经发布了哪些内容?\n",
    "\n",
    "See the [release notes](ReleaseNotes.ipynb) for details."
   ]
  },
  {
   "cell_type": "markdown",
   "metadata": {
    "slideshow": {
     "slide_type": "subslide"
    }
   },
   "source": [
    "#### 如何引用本文的工作?\n",
    "\n",
    "Thanks for referring to our work!  Once the book is complete, you will be able to cite it in the traditional way.  In the meantime, just click on the \"cite\" button at the bottom of the Web page for each chapter to get a citation entry."
   ]
  },
  {
   "cell_type": "markdown",
   "metadata": {
    "slideshow": {
     "slide_type": "subslide"
    }
   },
   "source": [
    "#### 你能引用我的论文吗？ 我可能为此单独写一章？\n",
    "\n",
    "We're always happy to get suggestions!  If we missed an important reference, we will of course add it.  If you'd like specific material to be covered, the best way is to _write a notebook_ yourself; see our [Guide for Authors](Guide_for_Authors.ipynb) for instructions on coding and writing.  We can then refer to it or even host it."
   ]
  },
  {
   "cell_type": "markdown",
   "metadata": {
    "slideshow": {
     "slide_type": "subslide"
    }
   },
   "source": [
    "### 教学课程类"
   ]
  },
  {
   "cell_type": "markdown",
   "metadata": {
    "slideshow": {
     "slide_type": "subslide"
    }
   },
   "source": [
    "#### 我可以在课上使用这些资料吗?\n",
    "\n",
    "Of course!  Just respect the [license](https://github.com/uds-se/fuzzingbook/blob/master/LICENSE.md) (including attribution and share alike).  If you want to use the material for commercial purposes, contact us."
   ]
  },
  {
   "cell_type": "markdown",
   "metadata": {
    "slideshow": {
     "slide_type": "subslide"
    }
   },
   "source": [
    "#### 我可以扩展或修改你的资料吗？\n",
    "\n",
    "Yes!  Again, please see the [license](https://github.com/uds-se/fuzzingbook/blob/master/LICENSE.md) for details."
   ]
  },
  {
   "cell_type": "markdown",
   "metadata": {
    "slideshow": {
     "slide_type": "subslide"
    }
   },
   "source": [
    "#### 我如何才能根据这本书开一门课程？\n",
    "\n",
    "We have successfully used the material in various courses.  \n",
    "\n",
    "* Initially, we used the slides and code and did _live coding_ in lectures to illustrate how a technique works. \n",
    "\n",
    "* Now, the goal of the book is to be completely self-contained; that is, it should work without additional support.  Hence, we now give out completed chapters to students in a _flipped classroom_ setting, with the students working on the notebooks at their leisure.  We would meet in the classroom to discuss experiences with past notebooks and discuss future notebooks.\n",
    "\n",
    "* We have the students work on exercises from the book or work on larger (fuzzing) projects.  We also have students who use the book as a base for their research; indeed, it is very easy to prototype in Python for Python.\n",
    "\n",
    "When running a course, [do not rely on mybinder.org](#Troubleshooting) – it will not provide sufficient resources for a larger group of students.  Instead, [install and run your own hub.](#Do-I-have-alternatives-to-the-interactive-notebook?)"
   ]
  },
  {
   "cell_type": "markdown",
   "metadata": {
    "slideshow": {
     "slide_type": "subslide"
    }
   },
   "source": [
    "#### 有没有我可以关注的特定领域？\n",
    "\n",
    "We have compiled a number of [tours through the book](Tours.ipynb) for various audiences.  Our [Sitemap](00_Table_of_Contents.ipynb) lists the dependencies between the individual chapters."
   ]
  },
  {
   "cell_type": "markdown",
   "metadata": {
    "slideshow": {
     "slide_type": "subslide"
    }
   },
   "source": [
    "#### 如何扩展或修改slides？\n",
    "\n",
    "Download the Jupyter Notebooks (using the menu at the top) and adapt the notebooks at your leisure (see above), including \"Slide Type\" settings.  Then,\n",
    "\n",
    "1. Download slides from Jupyter Notebook; or\n",
    "2. Use the RISE extension ([instructions](http://www.blog.pythonlibrary.org/2018/09/25/creating-presentations-with-jupyter-notebook/)) to present your slides right out of Jupyter notebook."
   ]
  },
  {
   "cell_type": "markdown",
   "metadata": {
    "slideshow": {
     "slide_type": "subslide"
    }
   },
   "source": [
    "#### 你是否提供PDF版的资料？\n",
    "\n",
    "At this point, we do not provide support for PDF versions.  We will be producing PDF and print versions after the book is complete."
   ]
  },
  {
   "cell_type": "markdown",
   "metadata": {
    "slideshow": {
     "slide_type": "subslide"
    }
   },
   "source": [
    "### 其他类的问题"
   ]
  },
  {
   "cell_type": "markdown",
   "metadata": {
    "slideshow": {
     "slide_type": "subslide"
    }
   },
   "source": [
    "#### 我有一个问题，意见或建议。 我该怎么做？\n",
    "\n",
    "You can [tweet to @fuzzingbook on Twitter](https://twitter.com/fuzzingbook), allowing the community of readers to chime in.  For bugs you'd like to get fixed, report an issue on the [development page](https://github.com/uds-se/fuzzingbook/issues)."
   ]
  },
  {
   "cell_type": "markdown",
   "metadata": {
    "slideshow": {
     "slide_type": "subslide"
    }
   },
   "source": [
    "#### 我两周前报告了一个问题。 什么时候解决？\n",
    "\n",
    "We prioritize issues as follows:\n",
    "\n",
    "1. Bugs in code published on fuzzingbook.org\n",
    "2. Bugs in text published on fuzzingbook.org\n",
    "3. Writing missing chapters\n",
    "4. Issues in yet unpublished code or text\n",
    "5. Issues related to development or construction\n",
    "6. Things marked as \"beta\"\n",
    "7. Everything else"
   ]
  },
  {
   "cell_type": "markdown",
   "metadata": {
    "slideshow": {
     "slide_type": "subslide"
    }
   },
   "source": [
    "#### 我该如何学会自己解决问题？\n",
    "\n",
    "We're glad you ask that.  The [development page](https://github.com/uds-se/fuzzingbook/) has all sources and some supplementary material.  Pull requests that fix issues are very welcome."
   ]
  },
  {
   "cell_type": "markdown",
   "metadata": {
    "slideshow": {
     "slide_type": "subslide"
    }
   },
   "source": [
    "#### 我可以贡献某些内容吗?\n",
    "\n",
    "Again, we're glad you're here!  We are happy to accept \n",
    "\n",
    "* **Code fixes and improvements.**  Please place any code under the MIT license such that we can easily include it.\n",
    "* **Additional text, chapters, and notebooks** on specialized topics.  We plan to set up a special folder for third-party contributions.\n",
    "\n",
    "See our [Guide for Authors](Guide_for_Authors.ipynb) for instructions on coding and writing."
   ]
  },
  {
   "cell_type": "code",
   "execution_count": null,
   "metadata": {},
   "outputs": [],
   "source": []
  }
 ],
 "metadata": {
  "ipub": {
   "bibliography": "fuzzingbook.bib",
   "listcode": true,
   "listfigures": true,
   "listtables": true,
   "titlepage": {
    "author": "Andreas Zeller, Rahul Gopinath, Marcel Böhme, Gordon Fraser, and Christian Holler",
    "subtitle": "Tools and Techniques for Generating Software Tests",
    "title": "The Fuzzing Book"
   },
   "toc": true
  },
  "kernelspec": {
   "display_name": "Python 3",
   "language": "python",
   "name": "python3"
  },
  "language_info": {
   "codemirror_mode": {
    "name": "ipython",
    "version": 3
   },
   "file_extension": ".py",
   "mimetype": "text/x-python",
   "name": "python",
   "nbconvert_exporter": "python",
   "pygments_lexer": "ipython3",
   "version": "3.7.1"
  },
  "toc": {
   "base_numbering": 1,
   "nav_menu": {},
   "number_sections": true,
   "sideBar": true,
   "skip_h1_title": true,
   "title_cell": "",
   "title_sidebar": "Contents",
   "toc_cell": false,
   "toc_position": {},
   "toc_section_display": true,
   "toc_window_display": true
  },
  "toc-autonumbering": false
 },
 "nbformat": 4,
 "nbformat_minor": 2
}
