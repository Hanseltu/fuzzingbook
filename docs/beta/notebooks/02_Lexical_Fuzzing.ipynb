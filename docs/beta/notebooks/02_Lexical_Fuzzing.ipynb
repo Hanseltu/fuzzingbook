{
 "cells": [
  {
   "cell_type": "markdown",
   "metadata": {
    "button": false,
    "new_sheet": false,
    "run_control": {
     "read_only": false
    },
    "slideshow": {
     "slide_type": "slide"
    }
   },
   "source": [
    "# Part II: 词法模糊测试\n",
    "\n",
    "本部分介绍在 _词法_ 级别上的测试用例生成技术，也就是说，输入由序列化的字符串组成。\n",
    "\n",
    "* [模糊测试：随机输入成大事](Fuzzer.ipynb) 从最简单的测试生成技术之一开始：模糊测试将 _随机字符字符串_ 喂给程序，以发现故障。\n",
    "\n",
    "* 在 [代码覆盖率](Coverage.ipynb) 中, 我们通过评估它们的 _code coverage_ 来衡量这些测试用例的有效性。也就是说，衡量在测试运行期间某测试用例实际覆盖了程序的哪些部分。对于尝试覆盖尽可能多代码的测试用例生成器，衡量此类覆盖范围也至关重要。\n",
    "\n",
    "* [基于突变的模糊测试](MutationFuzzer.ipynb) 部分显示了如何对现有输入进行突变以产生新的行为。 我们将展示如何创建此类突变，以及如何使用流行的AFL模糊器的核心概念来引导它们执行尚未覆盖的代码。\n",
    "\n",
    "* [灰盒模糊测试](GreyboxFuzzer.ipynb) 使用统计估计量进一步拓展了对输入的突变操作，以指导测试生成可能的错误。\n",
    "\n",
    "* [基于搜索的模糊测试](SearchBasedFuzzer.ipynb) 进一步采用指导的概念，引入了基于搜索的算法来系统地生成程序的测试数据。\n",
    "\n",
    "* [突变分析](MutationAnalysis.ipynb) 将合成缺陷（变异）喂到程序代码中，以检查测试是否找到相应的缺陷。如果测试没有发现变异，它们也可能不会发现真正的错误。\n"
   ]
  }
 ],
 "metadata": {
  "ipub": {
   "bibliography": "fuzzingbook.bib",
   "toc": true
  },
  "kernelspec": {
   "display_name": "Python 3",
   "language": "python",
   "name": "python3"
  },
  "language_info": {
   "codemirror_mode": {
    "name": "ipython",
    "version": 3
   },
   "file_extension": ".py",
   "mimetype": "text/x-python",
   "name": "python",
   "nbconvert_exporter": "python",
   "pygments_lexer": "ipython3",
   "version": "3.7.1"
  },
  "toc": {
   "base_numbering": 1,
   "nav_menu": {},
   "number_sections": true,
   "sideBar": true,
   "skip_h1_title": true,
   "title_cell": "",
   "title_sidebar": "Contents",
   "toc_cell": false,
   "toc_position": {},
   "toc_section_display": true,
   "toc_window_display": true
  },
  "toc-autonumbering": false
 },
 "nbformat": 4,
 "nbformat_minor": 2
}
