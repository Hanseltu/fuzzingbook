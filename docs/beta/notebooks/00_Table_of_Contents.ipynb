{
 "cells": [
  {
   "cell_type": "markdown",
   "metadata": {},
   "source": [
    "# The Fuzzing Book"
   ]
  },
  {
   "cell_type": "markdown",
   "metadata": {},
   "source": [
    "## 站点地图\n",
    "\n",
    "该站点地图显示了本书各章可能的阅读路径。箭头 $A \\rightarrow B$ 意味着章节 $ A $ 是章节 $ B $ 的先序章节。"
   ]
  },
  {
   "cell_type": "code",
   "execution_count": null,
   "metadata": {},
   "outputs": [],
   "source": [
    "from IPython.display import SVG"
   ]
  },
  {
   "cell_type": "code",
   "execution_count": null,
   "metadata": {},
   "outputs": [],
   "source": [
    "SVG(filename='PICS/Sitemap.svg')"
   ]
  },
  {
   "cell_type": "markdown",
   "metadata": {},
   "source": [
    "## [目录](index.ipynb)\n",
    "\n",
    "\n",
    "### [Part I: 激起你的欲望](01_Intro.ipynb)\n",
    "\n",
    "* [本书阅读之路](Tours.ipynb)\n",
    "* [软件测试简介](Intro_Testing.ipynb)\n",
    "\n",
    "### [Part II: 词法模糊测试](02_Lexical_Fuzzing.ipynb)\n",
    "\n",
    "* [模糊测试：随机输入打破常规](Fuzzer.ipynb)\n",
    "* [代码覆盖率](Coverage.ipynb)\n",
    "* [基于突变的模糊测试](MutationFuzzer.ipynb)\n",
    "* [灰盒模糊测试](GreyboxFuzzer.ipynb)\n",
    "* [基于搜索的模糊测试](SearchBasedFuzzer.ipynb)\n",
    "* [突变分析](MutationAnalysis.ipynb)\n",
    "\n",
    "### [Part III: 句法模糊测试](03_Syntactical_Fuzzing.ipynb)\n",
    "\n",
    "* [使用语法进行模糊测试](Grammars.ipynb)\n",
    "* [有效的语法模糊测试](GrammarFuzzer.ipynb)\n",
    "* [语法覆盖率指导的模糊测试](GrammarCoverageFuzzer.ipynb)\n",
    "* [输入解析](Parser.ipynb)\n",
    "* [概率的语法模糊测试](ProbabilisticGrammarFuzzer.ipynb)\n",
    "* [使用生成器模糊测试](GeneratorGrammarFuzzer.ipynb)\n",
    "* [使用语法的灰盒模糊测试](GreyboxGrammarFuzzer.ipynb)\n",
    "* [约减导致错误的输入](Reducer.ipynb)\n",
    "\n",
    "### [Part IV: 语义模糊测试](04_Semantical_Fuzzing.ipynb)\n",
    "\n",
    "* [挖掘输入语法](GrammarMiner.ipynb)\n",
    "* [跟踪信息流](InformationFlow.ipynb)\n",
    "* [混合执行的模糊测试](ConcolicFuzzer.ipynb)\n",
    "* [符号执行的模糊测试](SymbolicFuzzer.ipynb)\n",
    "* [挖掘函数特性](DynamicInvariants.ipynb)\n",
    "\n",
    "### [Part V: 特定领域的模糊测试](05_Domain-Specific_Fuzzing.ipynb)\n",
    "\n",
    "* [测试配置文件](ConfigurationFuzzer.ipynb)\n",
    "* [模糊测试API](APIFuzzer.ipynb)\n",
    "* [辅助单元测试](Carver.ipynb)\n",
    "* [测试Web应用](WebFuzzer.ipynb)\n",
    "* [测试GUI](GUIFuzzer.ipynb)\n",
    "\n",
    "### [Part VI: 模糊测试管理](06_Managing_Fuzzing.ipynb)\n",
    "\n",
    "* [大型模糊测试](FuzzingInTheLarge.ipynb)\n",
    "* [何时停止模糊测试](WhenToStopFuzzing.ipynb)\n",
    "\n",
    "### [附录](99_Appendices.ipynb)\n",
    "\n",
    "* [错误处理](ExpectError.ipynb)\n",
    "* [时间管理](Timer.ipynb)\n",
    "* [控制流图](ControlFlow.ipynb)\n",
    "* [指示图表](RailroadDiagrams.ipynb)\n"
   ]
  }
 ],
 "metadata": {
  "ipub": {
   "bibliography": "fuzzingbook.bib"
  },
  "kernelspec": {
   "display_name": "Python 3",
   "language": "python",
   "name": "python3"
  },
  "language_info": {
   "codemirror_mode": {
    "name": "ipython",
    "version": 3
   },
   "file_extension": ".py",
   "mimetype": "text/x-python",
   "name": "python",
   "nbconvert_exporter": "python",
   "pygments_lexer": "ipython3",
   "version": "3.7.1"
  },
  "toc": {
   "base_numbering": 1,
   "nav_menu": {},
   "number_sections": true,
   "sideBar": true,
   "skip_h1_title": true,
   "title_cell": "",
   "title_sidebar": "Contents",
   "toc_cell": false,
   "toc_position": {},
   "toc_section_display": true,
   "toc_window_display": true
  },
  "toc-autonumbering": false
 },
 "nbformat": 4,
 "nbformat_minor": 2
}
