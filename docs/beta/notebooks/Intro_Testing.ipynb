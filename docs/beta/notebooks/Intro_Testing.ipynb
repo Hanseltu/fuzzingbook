{
 "cells": [
  {
   "cell_type": "markdown",
   "metadata": {
    "button": false,
    "new_sheet": false,
    "run_control": {
     "read_only": false
    },
    "slideshow": {
     "slide_type": "slide"
    }
   },
   "source": [
    "# 软件测试简介\n",
    "\n",
    "在我们学习这本书的核心之前，首先介绍软件测试中一些重要的概念。为什么需要详尽地测试软件？一个软件如何进行测试？如何判断测试是否成功？如何知道测试是否已经足够？ 在本章中，我们将回顾一些最重要的概念，并同时熟悉Python和交互式notebooks的使用方法。"
   ]
  },
  {
   "cell_type": "markdown",
   "metadata": {
    "button": false,
    "new_sheet": false,
    "run_control": {
     "read_only": false
    },
    "slideshow": {
     "slide_type": "slide"
    }
   },
   "source": [
    "## 简单测试\n",
    "\n",
    "让我们从简单的例子开始。你的同事被要求实现一个求平方根的函数 $\\sqrt{x}$。(假设目前没有这样一个函数，需要重新实现) 在学习完 [Newton–Raphson method](https://en.wikipedia.org/wiki/Newton%27s_method)之后，他想到了一些解决方案，并且用Python实现了出来，即函数 `my_sqrt()` 用来计算平方根。"
   ]
  },
  {
   "cell_type": "code",
   "execution_count": 1,
   "metadata": {
    "button": false,
    "new_sheet": false,
    "run_control": {
     "read_only": false
    },
    "slideshow": {
     "slide_type": "fragment"
    }
   },
   "outputs": [],
   "source": [
    "def my_sqrt(x):\n",
    "    \"\"\"Computes the square root of x, using the Newton-Raphson method\"\"\"\n",
    "    approx = None\n",
    "    guess = x / 2\n",
    "    while approx != guess:\n",
    "        approx = guess\n",
    "        guess = (approx + x / approx) / 2\n",
    "    return approx"
   ]
  },
  {
   "cell_type": "markdown",
   "metadata": {
    "button": false,
    "new_sheet": false,
    "run_control": {
     "read_only": false
    },
    "slideshow": {
     "slide_type": "fragment"
    }
   },
   "source": [
    "现在，你的工作是确定此函数是否真正能够满足要求。"
   ]
  },
  {
   "cell_type": "markdown",
   "metadata": {
    "button": false,
    "new_sheet": false,
    "run_control": {
     "read_only": false
    },
    "slideshow": {
     "slide_type": "notes"
    }
   },
   "source": [
    "### 理解 Python 代码\n",
    "\n",
    "如果你不熟悉Python，可能首先需要了解上述代码的功能。 我们十分推荐你阅读 [Python tutorial](https://docs.python.org/3/tutorial/) 去了解Python是如何工作的。对于你来说，理解以上代码最重要的是以下三个：\n",
    "\n",
    "1. Python 通过 _缩进_ 构造程序结构，因此函数和while主体是通过缩进来定义的；\n",
    "2. Python 是 _动态类型_ 的语言， 这意味着各种变量 `x`, `approx`, 或者 `guess` 是在运行时决定的。\n",
    "3. Python 的大部分词法特征都受其他编程语言启发，如控制流 (`while`, `if`), 赋值 (`=`), 或者比较 (`==`, `!=`, `<`).\n",
    "\n",
    "通过以上分析，你已经大概知道了上段代码的功能: 从 `guess` 和 `x / 2` 开始，它一直计算并和 `approx` 比较，直到 `approx` 的值不在改变。  最终将这个不改变的值返回。"
   ]
  },
  {
   "cell_type": "markdown",
   "metadata": {
    "slideshow": {
     "slide_type": "subslide"
    }
   },
   "source": [
    "### 运行一个函数"
   ]
  },
  {
   "cell_type": "markdown",
   "metadata": {
    "button": false,
    "new_sheet": false,
    "run_control": {
     "read_only": false
    },
    "slideshow": {
     "slide_type": "subslide"
    }
   },
   "source": [
    "为了判断函数 `my_sqrt()` 是否正确执行，我们可以使用某些特定的值对它进行 *测试* 。例如，当 `x = 4` 时，函数返回以下正确的值："
   ]
  },
  {
   "cell_type": "code",
   "execution_count": 2,
   "metadata": {
    "button": false,
    "new_sheet": false,
    "run_control": {
     "read_only": false
    },
    "slideshow": {
     "slide_type": "fragment"
    }
   },
   "outputs": [
    {
     "data": {
      "text/plain": [
       "2.0"
      ]
     },
     "execution_count": 2,
     "metadata": {},
     "output_type": "execute_result"
    }
   ],
   "source": [
    "my_sqrt(4)"
   ]
  },
  {
   "cell_type": "markdown",
   "metadata": {
    "slideshow": {
     "slide_type": "fragment"
    }
   },
   "source": [
    "上面部分 `my_sqrt(4)`是Python解释器的输入 ( 也叫做 _cell_ ) ， 这个输入默认 _执行_ 。下面部分 (`2.0`) 是它的输出。我们可以看到`my_sqrt(4)` 返回了正确的答案。"
   ]
  },
  {
   "cell_type": "markdown",
   "metadata": {
    "button": false,
    "new_sheet": false,
    "run_control": {
     "read_only": false
    },
    "slideshow": {
     "slide_type": "fragment"
    }
   },
   "source": [
    "当 `x = 2.0`时，同样得到了正确的答案："
   ]
  },
  {
   "cell_type": "code",
   "execution_count": 3,
   "metadata": {
    "button": false,
    "new_sheet": false,
    "run_control": {
     "read_only": false
    },
    "slideshow": {
     "slide_type": "fragment"
    }
   },
   "outputs": [
    {
     "data": {
      "text/plain": [
       "1.414213562373095"
      ]
     },
     "execution_count": 3,
     "metadata": {},
     "output_type": "execute_result"
    }
   ],
   "source": [
    "my_sqrt(2)"
   ]
  },
  {
   "cell_type": "markdown",
   "metadata": {
    "slideshow": {
     "slide_type": "subslide"
    }
   },
   "source": [
    "### 使用 Notebooks 进行交互操作\n",
    "\n",
    "如果你正在使用交互式的 notebook 阅读本书, 你可以随意更改 `my_sqrt()` 输入测试这个函数的功能。单击上面的单元格，改变函数输入调用 `my_sqrt()`  – 也就是说，比如改为 `my_sqrt(1)`。按下 `Shift+Enter` (或者点击运行按钮) 执行程序并查看其结果。如果你得到了错误的信息， 在 `my_sqrt()` 定义的地方执行一次。你也可以一次执行完所有的 cells ；查阅 notebook 菜单可以获取更多的信息。(实际上，你也可以通过单击文本来修改文本，并修改某些句子中的错误)"
   ]
  },
  {
   "cell_type": "markdown",
   "metadata": {
    "slideshow": {
     "slide_type": "subslide"
    }
   },
   "source": [
    "执行单个单元格不会执行其他单元格，因此，如果你的单元格基于尚未执行的另一个单元格中的定义，则会出现错误。你可以选择菜单中的 `Run all cells above` 来保证所有的函数都是预先定义的。"
   ]
  },
  {
   "cell_type": "markdown",
   "metadata": {
    "slideshow": {
     "slide_type": "subslide"
    }
   },
   "source": [
    "还要记住，除非覆盖，否则所有定义都将在执行过程中保留。有时，这会帮助你 _restart the kernel_ (例如，重启Python解释器服务) 来避免较老的定义。"
   ]
  },
  {
   "cell_type": "markdown",
   "metadata": {
    "slideshow": {
     "slide_type": "subslide"
    }
   },
   "source": [
    "### 调试一个函数"
   ]
  },
  {
   "cell_type": "markdown",
   "metadata": {
    "slideshow": {
     "slide_type": "fragment"
    }
   },
   "source": [
    "想要知道函数 `my_sqrt()` 具体是如何执行的，一个简单的策略就是在重要的地方插入 `print()`。比如，你可以打印 `approx`的值， 检查在每个循环中它的值有没有越来越趋近正确值。"
   ]
  },
  {
   "cell_type": "code",
   "execution_count": 4,
   "metadata": {
    "button": false,
    "new_sheet": false,
    "run_control": {
     "read_only": false
    },
    "slideshow": {
     "slide_type": "fragment"
    }
   },
   "outputs": [],
   "source": [
    "def my_sqrt_with_log(x):\n",
    "    \"\"\"Computes the square root of x, using the Newton–Raphson method\"\"\"\n",
    "    approx = None\n",
    "    guess = x / 2\n",
    "    while approx != guess:\n",
    "        print(\"approx =\", approx)  # <-- New\n",
    "        approx = guess\n",
    "        guess = (approx + x / approx) / 2\n",
    "    return approx"
   ]
  },
  {
   "cell_type": "code",
   "execution_count": 5,
   "metadata": {
    "slideshow": {
     "slide_type": "subslide"
    }
   },
   "outputs": [
    {
     "name": "stdout",
     "output_type": "stream",
     "text": [
      "approx = None\n",
      "approx = 4.5\n",
      "approx = 3.25\n",
      "approx = 3.0096153846153846\n",
      "approx = 3.000015360039322\n",
      "approx = 3.0000000000393214\n"
     ]
    },
    {
     "data": {
      "text/plain": [
       "3.0"
      ]
     },
     "execution_count": 5,
     "metadata": {},
     "output_type": "execute_result"
    }
   ],
   "source": [
    "my_sqrt_with_log(9)"
   ]
  },
  {
   "cell_type": "markdown",
   "metadata": {
    "slideshow": {
     "slide_type": "fragment"
    }
   },
   "source": [
    "交互式的 notebooks 还提供交互式的 *调试器* – 在单元格上方插入一个 \"magic line\" `%%debug` 可以看到它是如何工作的。不幸的是，交互式调试器会干扰我们的动态分析技术，因此我们主要使用日志记录和断言进行调试。"
   ]
  },
  {
   "cell_type": "markdown",
   "metadata": {
    "slideshow": {
     "slide_type": "subslide"
    }
   },
   "source": [
    "### 检查一个函数"
   ]
  },
  {
   "cell_type": "markdown",
   "metadata": {
    "button": false,
    "new_sheet": false,
    "run_control": {
     "read_only": false
    },
    "slideshow": {
     "slide_type": "subslide"
    }
   },
   "source": [
    "让我们回到测试当中。我们可以阅读和运行代码，那么上面的 `my_sqrt(2)` 输出是正确的吗？我们可以简单地验证，如 $\\sqrt{x}$ 和自己相乘得到的结果必须是 $x$, 换句话说， $\\sqrt{x} \\times \\sqrt{x} = x$ 永远成立。我们再看看下面："
   ]
  },
  {
   "cell_type": "code",
   "execution_count": 6,
   "metadata": {
    "button": false,
    "new_sheet": false,
    "run_control": {
     "read_only": false
    },
    "slideshow": {
     "slide_type": "fragment"
    }
   },
   "outputs": [
    {
     "data": {
      "text/plain": [
       "1.9999999999999996"
      ]
     },
     "execution_count": 6,
     "metadata": {},
     "output_type": "execute_result"
    }
   ],
   "source": [
    "my_sqrt(2) * my_sqrt(2)"
   ]
  },
  {
   "cell_type": "markdown",
   "metadata": {
    "button": false,
    "new_sheet": false,
    "run_control": {
     "read_only": false
    },
    "slideshow": {
     "slide_type": "fragment"
    }
   },
   "source": [
    "好的，看起来有一点精确取值的问题，但是看起来还好，没有太大的错误。"
   ]
  },
  {
   "cell_type": "markdown",
   "metadata": {
    "button": false,
    "new_sheet": false,
    "run_control": {
     "read_only": false
    },
    "slideshow": {
     "slide_type": "fragment"
    }
   },
   "source": [
    "现在，我们已经完成了上述程序的测试：在给定的输入上执行了该程序，并检查了其结果是否正确。 在程序执行之前，这种测试是质量保证的最低限度。"
   ]
  },
  {
   "cell_type": "markdown",
   "metadata": {
    "button": false,
    "new_sheet": false,
    "run_control": {
     "read_only": false
    },
    "slideshow": {
     "slide_type": "slide"
    }
   },
   "source": [
    "## 测试自动化\n",
    "\n",
    "到目前为止，我们已经 _手动_ 测试了上述程序，即手动运行它并手动检查其结果。虽然这是一种非常灵活的测试方法，但从长远来看，它效率很低：\n",
    "\n",
    "1. 手动方式，你只能检查非常有限的执行及其结果\n",
    "2. 对程序进行任何更改后，你必须重复测试过程\n",
    "\n",
    "这就是为什么 _自动化_ 测试非常有用的原因。这是一种非常简单的方法，它可以让计算机首先进行计算，然后让计算机检查结果。"
   ]
  },
  {
   "cell_type": "markdown",
   "metadata": {
    "button": false,
    "new_sheet": false,
    "run_control": {
     "read_only": false
    },
    "slideshow": {
     "slide_type": "subslide"
    }
   },
   "source": [
    "例如，自动化测试 $\\sqrt{4} = 2$ 可以如下所示："
   ]
  },
  {
   "cell_type": "code",
   "execution_count": 7,
   "metadata": {
    "button": false,
    "new_sheet": false,
    "run_control": {
     "read_only": false
    },
    "slideshow": {
     "slide_type": "fragment"
    }
   },
   "outputs": [
    {
     "name": "stdout",
     "output_type": "stream",
     "text": [
      "Test passed\n"
     ]
    }
   ],
   "source": [
    "result = my_sqrt(4)\n",
    "expected_result = 2.0\n",
    "if result == expected_result:\n",
    "    print(\"Test passed\")\n",
    "else:\n",
    "    print(\"Test failed\")"
   ]
  },
  {
   "cell_type": "markdown",
   "metadata": {
    "button": false,
    "new_sheet": false,
    "run_control": {
     "read_only": false
    },
    "slideshow": {
     "slide_type": "subslide"
    }
   },
   "source": [
    "这样测试的好处是我们可以一次又一次地运行它，从而确保至少正确计算了4的平方根。 但是，仍然存在许多问题：\n",
    "\n",
    "1. 我们需要 _五行代码_ 来测试一个简单的函数\n",
    "2. 我们没有考虑精确范围问题\n",
    "3. 我们只能检查一个简单的函数 (简单的结果)\n",
    "\n",
    "让我们一一解决这些问题。首先，让我们使测试更加紧凑。几乎所有的编程语言都可以自动检查条件是否成立，如果条件不成立则停止执行。这称为_assertion_，对于测试非常有用。"
   ]
  },
  {
   "cell_type": "markdown",
   "metadata": {
    "button": false,
    "new_sheet": false,
    "run_control": {
     "read_only": false
    },
    "slideshow": {
     "slide_type": "subslide"
    }
   },
   "source": [
    "在 Python 中，`assert` 语句执行有一个条件，如果条件满足，则不会输出任何东西 (如果一切正常，你就不会感到烦恼)。 如果条件不满足，那么 `assert` 会抛出一个异常，表示这个测试执行失败。\n",
    "\n",
    "在我们的例子中，我们使用 `assert` 简单地测试 `my_sqrt()` 是否能按我们的预期执行："
   ]
  },
  {
   "cell_type": "code",
   "execution_count": 8,
   "metadata": {
    "button": false,
    "new_sheet": false,
    "run_control": {
     "read_only": false
    },
    "slideshow": {
     "slide_type": "fragment"
    }
   },
   "outputs": [],
   "source": [
    "assert my_sqrt(4) == 2"
   ]
  },
  {
   "cell_type": "markdown",
   "metadata": {
    "button": false,
    "new_sheet": false,
    "run_control": {
     "read_only": false
    },
    "slideshow": {
     "slide_type": "fragment"
    }
   },
   "source": [
    "当你执行完上面的代码，什么都没有发生：我们只是展示了 (或者断言了) 我们的函数 $\\sqrt{4} = 2$ 是成立的。"
   ]
  },
  {
   "cell_type": "markdown",
   "metadata": {
    "button": false,
    "new_sheet": false,
    "run_control": {
     "read_only": false
    },
    "slideshow": {
     "slide_type": "subslide"
    }
   },
   "source": [
    "但是请记住，浮点计算可能会导致舍入误差。因此，我们不能简单地比较两个浮点数是否相等。相反，我们将确保它们之间的绝对差保持在某个阈值以下，通常表示为 $\\epsilon$ 或 ``epsilon``。看看我们是怎么做的："
   ]
  },
  {
   "cell_type": "code",
   "execution_count": 9,
   "metadata": {
    "button": false,
    "new_sheet": false,
    "run_control": {
     "read_only": false
    },
    "slideshow": {
     "slide_type": "fragment"
    }
   },
   "outputs": [],
   "source": [
    "EPSILON = 1e-8"
   ]
  },
  {
   "cell_type": "code",
   "execution_count": 10,
   "metadata": {
    "button": false,
    "new_sheet": false,
    "run_control": {
     "read_only": false
    },
    "slideshow": {
     "slide_type": "fragment"
    }
   },
   "outputs": [],
   "source": [
    "assert abs(my_sqrt(4) - 2) < EPSILON"
   ]
  },
  {
   "cell_type": "markdown",
   "metadata": {
    "button": false,
    "new_sheet": false,
    "run_control": {
     "read_only": false
    },
    "slideshow": {
     "slide_type": "subslide"
    }
   },
   "source": [
    "我们也可以为此目的引入一个特殊函数，对更多具体值进行测试："
   ]
  },
  {
   "cell_type": "code",
   "execution_count": 11,
   "metadata": {
    "button": false,
    "new_sheet": false,
    "run_control": {
     "read_only": false
    },
    "slideshow": {
     "slide_type": "fragment"
    }
   },
   "outputs": [],
   "source": [
    "def assertEquals(x, y, epsilon=1e-8):\n",
    "    assert abs(x - y) < epsilon"
   ]
  },
  {
   "cell_type": "code",
   "execution_count": 12,
   "metadata": {
    "button": false,
    "new_sheet": false,
    "run_control": {
     "read_only": false
    },
    "slideshow": {
     "slide_type": "fragment"
    }
   },
   "outputs": [],
   "source": [
    "assertEquals(my_sqrt(4), 2)\n",
    "assertEquals(my_sqrt(9), 3)\n",
    "assertEquals(my_sqrt(100), 10)"
   ]
  },
  {
   "cell_type": "markdown",
   "metadata": {
    "button": false,
    "new_sheet": false,
    "run_control": {
     "read_only": false
    },
    "slideshow": {
     "slide_type": "fragment"
    }
   },
   "source": [
    "似乎没什么问题，对吧？如果我们知道计算的预期结果，则可以一次又一次地使用此类断言，以确保我们的程序正确运行。"
   ]
  },
  {
   "cell_type": "markdown",
   "metadata": {
    "button": false,
    "new_sheet": false,
    "run_control": {
     "read_only": false
    },
    "slideshow": {
     "slide_type": "slide"
    }
   },
   "source": [
    "## 生成测试用例\n",
    "\n",
    "还记得 $\\sqrt{x} \\times \\sqrt{x} = x$ 是普遍成立的吗？ 我们还可以使用一些值来显式测试它："
   ]
  },
  {
   "cell_type": "code",
   "execution_count": 13,
   "metadata": {
    "button": false,
    "new_sheet": false,
    "run_control": {
     "read_only": false
    },
    "slideshow": {
     "slide_type": "fragment"
    }
   },
   "outputs": [],
   "source": [
    "assertEquals(my_sqrt(2) * my_sqrt(2), 2)\n",
    "assertEquals(my_sqrt(3) * my_sqrt(3), 3)\n",
    "assertEquals(my_sqrt(42.11) * my_sqrt(42.11), 42.11)"
   ]
  },
  {
   "cell_type": "markdown",
   "metadata": {
    "button": false,
    "new_sheet": false,
    "run_control": {
     "read_only": false
    },
    "slideshow": {
     "slide_type": "fragment"
    }
   },
   "source": [
    "看起来也没有什么问题，对吧？其中最重要的是我们可以轻松使用 $\\sqrt{x} \\times \\sqrt{x} = x$ 来测试成千上万次测试。例如："
   ]
  },
  {
   "cell_type": "code",
   "execution_count": 14,
   "metadata": {
    "button": false,
    "new_sheet": false,
    "run_control": {
     "read_only": false
    },
    "slideshow": {
     "slide_type": "fragment"
    }
   },
   "outputs": [],
   "source": [
    "for n in range(1, 1000):\n",
    "    assertEquals(my_sqrt(n) * my_sqrt(n), n)"
   ]
  },
  {
   "cell_type": "markdown",
   "metadata": {
    "button": false,
    "new_sheet": false,
    "run_control": {
     "read_only": false
    },
    "slideshow": {
     "slide_type": "subslide"
    }
   },
   "source": [
    "测试100次 `my_sqrt()` 需要多久呢？我看来计算一下："
   ]
  },
  {
   "cell_type": "markdown",
   "metadata": {
    "button": false,
    "new_sheet": false,
    "run_control": {
     "read_only": false
    },
    "slideshow": {
     "slide_type": "subslide"
    }
   },
   "source": [
    "我们用我们的 [`Timer` 模块](Timer.ipynb) 来计算运行时间。为了能够使用 `Timer`, 我们首先导入相关的配置模块。"
   ]
  },
  {
   "cell_type": "code",
   "execution_count": 15,
   "metadata": {
    "slideshow": {
     "slide_type": "skip"
    }
   },
   "outputs": [],
   "source": [
    "import fuzzingbook_utils"
   ]
  },
  {
   "cell_type": "code",
   "execution_count": 16,
   "metadata": {
    "button": false,
    "new_sheet": false,
    "run_control": {
     "read_only": false
    },
    "slideshow": {
     "slide_type": "fragment"
    }
   },
   "outputs": [],
   "source": [
    "from Timer import Timer"
   ]
  },
  {
   "cell_type": "code",
   "execution_count": 17,
   "metadata": {
    "button": false,
    "new_sheet": false,
    "run_control": {
     "read_only": false
    },
    "slideshow": {
     "slide_type": "fragment"
    }
   },
   "outputs": [
    {
     "name": "stdout",
     "output_type": "stream",
     "text": [
      "0.06904243399912957\n"
     ]
    }
   ],
   "source": [
    "with Timer() as t:\n",
    "    for n in range(1, 10000):\n",
    "        assertEquals(my_sqrt(n) * my_sqrt(n), n)\n",
    "print(t.elapsed_time())"
   ]
  },
  {
   "cell_type": "markdown",
   "metadata": {
    "button": false,
    "new_sheet": false,
    "run_control": {
     "read_only": false
    },
    "slideshow": {
     "slide_type": "fragment"
    }
   },
   "source": [
    "10,000个值大约需要百分之一秒，因此一次执行 `my_sqrt()` 需要 1/1000000 秒, 或者大约1微秒。"
   ]
  },
  {
   "cell_type": "markdown",
   "metadata": {
    "button": false,
    "new_sheet": false,
    "run_control": {
     "read_only": false
    },
    "slideshow": {
     "slide_type": "subslide"
    }
   },
   "source": [
    "让我们重复随机选择10,000个值。Pyhton中 `random.random()` 函数可以返回一个 0.0 到 1.0 之间的数。"
   ]
  },
  {
   "cell_type": "code",
   "execution_count": 18,
   "metadata": {
    "button": false,
    "new_sheet": false,
    "run_control": {
     "read_only": false
    },
    "slideshow": {
     "slide_type": "fragment"
    }
   },
   "outputs": [],
   "source": [
    "import random"
   ]
  },
  {
   "cell_type": "code",
   "execution_count": 19,
   "metadata": {
    "button": false,
    "new_sheet": false,
    "run_control": {
     "read_only": false
    },
    "slideshow": {
     "slide_type": "fragment"
    }
   },
   "outputs": [
    {
     "name": "stdout",
     "output_type": "stream",
     "text": [
      "0.08346103799703997\n"
     ]
    }
   ],
   "source": [
    "with Timer() as t:\n",
    "    for i in range(10000):\n",
    "        x = 1 + random.random() * 1000000\n",
    "        assertEquals(my_sqrt(x) * my_sqrt(x), x)\n",
    "print(t.elapsed_time())"
   ]
  },
  {
   "cell_type": "markdown",
   "metadata": {
    "button": false,
    "new_sheet": false,
    "run_control": {
     "read_only": false
    },
    "slideshow": {
     "slide_type": "fragment"
    }
   },
   "source": [
    "一秒钟之内，我们现在测试了10,000个随机值，并且每次实际上都正确计算了平方根。我们可以对每个`my_sqrt()`函数更改进行重复测试，每次测试都能增强我们对 `my_sqrt（）` 正常工作的信心。但是请注意，尽管随机函数在产生随机值时是 _无偏的_ ，但不太可能生成会极大改变程序行为的特殊值。我们将在下面稍后讨论这个问题。"
   ]
  },
  {
   "cell_type": "markdown",
   "metadata": {
    "button": false,
    "new_sheet": false,
    "run_control": {
     "read_only": false
    },
    "slideshow": {
     "slide_type": "slide"
    }
   },
   "source": [
    "## 运行时验证\n",
    "\n",
    "除了为 `my_sqrt()`函数编写和运行测试用例，我们还可以 _把检查的过程集成到运行中_ 。这样的话， _每次_  `my_sqrt()` 的执行都将被自动检查。"
   ]
  },
  {
   "cell_type": "markdown",
   "metadata": {
    "button": false,
    "new_sheet": false,
    "run_control": {
     "read_only": false
    },
    "slideshow": {
     "slide_type": "subslide"
    }
   },
   "source": [
    "这种 _自动化的运行时检查_ 非常容易实施："
   ]
  },
  {
   "cell_type": "code",
   "execution_count": 20,
   "metadata": {
    "button": false,
    "new_sheet": false,
    "run_control": {
     "read_only": false
    },
    "slideshow": {
     "slide_type": "fragment"
    }
   },
   "outputs": [],
   "source": [
    "def my_sqrt_checked(x):\n",
    "    root = my_sqrt(x)\n",
    "    assertEquals(root * root, x)\n",
    "    return root"
   ]
  },
  {
   "cell_type": "markdown",
   "metadata": {
    "button": false,
    "new_sheet": false,
    "run_control": {
     "read_only": false
    },
    "slideshow": {
     "slide_type": "fragment"
    }
   },
   "source": [
    "现在，我们可以通过 `my_sqrt_checked()`$\\dots$ 随时进行运行时测试 "
   ]
  },
  {
   "cell_type": "code",
   "execution_count": 21,
   "metadata": {
    "button": false,
    "new_sheet": false,
    "run_control": {
     "read_only": false
    },
    "slideshow": {
     "slide_type": "fragment"
    }
   },
   "outputs": [
    {
     "data": {
      "text/plain": [
       "1.414213562373095"
      ]
     },
     "execution_count": 21,
     "metadata": {},
     "output_type": "execute_result"
    }
   ],
   "source": [
    "my_sqrt_checked(2.0)"
   ]
  },
  {
   "cell_type": "markdown",
   "metadata": {
    "button": false,
    "new_sheet": false,
    "run_control": {
     "read_only": false
    },
    "slideshow": {
     "slide_type": "fragment"
    }
   },
   "source": [
    "我们已经知道结果是正确的，并且对于每次新的成功计算都是如此。"
   ]
  },
  {
   "cell_type": "markdown",
   "metadata": {
    "button": false,
    "new_sheet": false,
    "run_control": {
     "read_only": false
    },
    "slideshow": {
     "slide_type": "fragment"
    }
   },
   "source": [
    "如上所述，自动运行时检查假设有两件事值得考虑：\n",
    "\n",
    "必须能够有效制定这样的运行时检查。始终有可能要检查具体的值，但是以抽象方式制定所需的属性可能非常复杂。实际上，你需要确定哪些属性最关键，并为它们设计适当的检查。另外，运行时检查可能不仅取决于本地属性，还取决于程序状态的多个属性，所有这些属性都必须提前确定。\n",
    "\n",
    "必须能够 _afford_ 这样的运行时检查。 对于 `my_sqrt（）`，检查不是很费时； 但是，即使经过简单的操作，如果我们不得不检查大型数据结构，检查的费用很快就会变得复杂。在实践中，通常会在生产过程中禁用运行时检查，而为了提高效率而牺牲了可靠性。另一方面，一套全面的运行时检查是发现错误并快速调试它们的好方法。你需要确定在测试期间仍需要多少种这样的函数。"
   ]
  },
  {
   "cell_type": "markdown",
   "metadata": {
    "button": false,
    "new_sheet": false,
    "run_control": {
     "read_only": false
    },
    "slideshow": {
     "slide_type": "slide"
    }
   },
   "source": [
    "## 系统输入 vs 函数输入"
   ]
  },
  {
   "cell_type": "markdown",
   "metadata": {
    "button": false,
    "new_sheet": false,
    "run_control": {
     "read_only": false
    },
    "slideshow": {
     "slide_type": "fragment"
    }
   },
   "source": [
    "此时，我们可以使 `my_sqrt（）` 可供其他程序员使用，然后他们可以将其嵌入其代码中。在某些时候，它必须处理来自 `第三方` 的输入，即不受程序员的控制。"
   ]
  },
  {
   "cell_type": "markdown",
   "metadata": {
    "button": false,
    "new_sheet": false,
    "run_control": {
     "read_only": false
    },
    "slideshow": {
     "slide_type": "fragment"
    }
   },
   "source": [
    "让我们假设通过程序 `sqrt_program（）` 来模拟此系统输入，该输入是第三方控制下的字符串："
   ]
  },
  {
   "cell_type": "code",
   "execution_count": 22,
   "metadata": {
    "slideshow": {
     "slide_type": "fragment"
    }
   },
   "outputs": [],
   "source": [
    "def sqrt_program(arg):\n",
    "    x = int(arg)\n",
    "    print('The root of', x, 'is', my_sqrt(x))"
   ]
  },
  {
   "cell_type": "markdown",
   "metadata": {
    "slideshow": {
     "slide_type": "subslide"
    }
   },
   "source": [
    "我们假设 `sqrt_program` 是一个可以接受系统输入的函数，如从命令行接收一个参数。\n",
    "```shell\n",
    "$ sqrt_program 4\n",
    "2\n",
    "```"
   ]
  },
  {
   "cell_type": "markdown",
   "metadata": {
    "button": false,
    "new_sheet": false,
    "run_control": {
     "read_only": false
    },
    "slideshow": {
     "slide_type": "fragment"
    }
   },
   "source": [
    "我们可以通过一些系统输入轻松地调用 `sqrt_program()`："
   ]
  },
  {
   "cell_type": "code",
   "execution_count": 23,
   "metadata": {
    "button": false,
    "new_sheet": false,
    "run_control": {
     "read_only": false
    },
    "slideshow": {
     "slide_type": "fragment"
    }
   },
   "outputs": [
    {
     "name": "stdout",
     "output_type": "stream",
     "text": [
      "The root of 4 is 2.0\n"
     ]
    }
   ],
   "source": [
    "sqrt_program(\"4\")"
   ]
  },
  {
   "cell_type": "markdown",
   "metadata": {
    "button": false,
    "new_sheet": false,
    "run_control": {
     "read_only": false
    },
    "slideshow": {
     "slide_type": "subslide"
    }
   },
   "source": [
    "有什么问题？好吧，问题在于我们没有检查外部输入的有效性。试着调用 `sqrt_program(-1)`，看看会发生什么？"
   ]
  },
  {
   "cell_type": "markdown",
   "metadata": {
    "button": false,
    "new_sheet": false,
    "run_control": {
     "read_only": false
    },
    "slideshow": {
     "slide_type": "subslide"
    }
   },
   "source": [
    "事实上，如果你在调用 `my_sqrt()` 时输入一个负数参数，它将进入一个死循环。由于技术原因，本章不能讲解无限循环（除非我们希望代码永远运行）。因此，我们使用特殊的 `with ExpectTimeOut(1)` 结构在一秒钟后执行中断执行。"
   ]
  },
  {
   "cell_type": "code",
   "execution_count": 24,
   "metadata": {
    "button": false,
    "new_sheet": false,
    "run_control": {
     "read_only": false
    },
    "slideshow": {
     "slide_type": "fragment"
    }
   },
   "outputs": [],
   "source": [
    "from ExpectError import ExpectTimeout"
   ]
  },
  {
   "cell_type": "code",
   "execution_count": 25,
   "metadata": {
    "button": false,
    "new_sheet": false,
    "run_control": {
     "read_only": false
    },
    "slideshow": {
     "slide_type": "fragment"
    }
   },
   "outputs": [
    {
     "name": "stderr",
     "output_type": "stream",
     "text": [
      "Traceback (most recent call last):\n",
      "  File \"<ipython-input-25-add01711282b>\", line 2, in <module>\n",
      "    sqrt_program(\"-1\")\n",
      "  File \"<ipython-input-22-53e8ec8bb3ca>\", line 3, in sqrt_program\n",
      "    print('The root of', x, 'is', my_sqrt(x))\n",
      "  File \"<ipython-input-1-47185ad159a1>\", line 7, in my_sqrt\n",
      "    guess = (approx + x / approx) / 2\n",
      "  File \"<ipython-input-1-47185ad159a1>\", line 7, in my_sqrt\n",
      "    guess = (approx + x / approx) / 2\n",
      "  File \"ExpectError.ipynb\", line 59, in check_time\n",
      "TimeoutError (expected)\n"
     ]
    }
   ],
   "source": [
    "with ExpectTimeout(1):\n",
    "    sqrt_program(\"-1\")"
   ]
  },
  {
   "cell_type": "markdown",
   "metadata": {
    "button": false,
    "new_sheet": false,
    "run_control": {
     "read_only": false
    },
    "slideshow": {
     "slide_type": "subslide"
    }
   },
   "source": [
    "上面是一段 _错误信息_, 意味着这个代码有问题。错误列出了运行时出错的 *函数调用栈* 和行号信息。最底部的行是最后执行的行；上面的几行代表函数调用–在我们的例子中调用了`my_sqrt(x)`。\n",
    "\n",
    "我们不希望我们的代码以异常终止。因此，在接受外部输入时，我们必须确保已对其进行正确验证。例如，我们可以这样写："
   ]
  },
  {
   "cell_type": "code",
   "execution_count": 26,
   "metadata": {
    "button": false,
    "new_sheet": false,
    "run_control": {
     "read_only": false
    },
    "slideshow": {
     "slide_type": "fragment"
    }
   },
   "outputs": [],
   "source": [
    "def sqrt_program(arg):\n",
    "    x = int(arg)\n",
    "    if x < 0:\n",
    "        print(\"Illegal Input\")\n",
    "    else:\n",
    "        print('The root of', x, 'is', my_sqrt(x))"
   ]
  },
  {
   "cell_type": "markdown",
   "metadata": {
    "button": false,
    "new_sheet": false,
    "run_control": {
     "read_only": false
    },
    "slideshow": {
     "slide_type": "fragment"
    }
   },
   "source": [
    "然后我们可以确保仅根据其规范调用 `my_sqrt()`。"
   ]
  },
  {
   "cell_type": "code",
   "execution_count": 27,
   "metadata": {
    "button": false,
    "new_sheet": false,
    "run_control": {
     "read_only": false
    },
    "slideshow": {
     "slide_type": "fragment"
    }
   },
   "outputs": [
    {
     "name": "stdout",
     "output_type": "stream",
     "text": [
      "Illegal Input\n"
     ]
    }
   ],
   "source": [
    "sqrt_program(\"-1\")"
   ]
  },
  {
   "cell_type": "markdown",
   "metadata": {
    "button": false,
    "new_sheet": false,
    "run_control": {
     "read_only": false
    },
    "slideshow": {
     "slide_type": "subslide"
    }
   },
   "source": [
    "但是等一下! 如果 `sqrt_program()` 函数调用的不是一个数值呢？ 然后，我们将尝试转换非数字字符串，这也会导致运行时错误："
   ]
  },
  {
   "cell_type": "code",
   "execution_count": 28,
   "metadata": {
    "button": false,
    "new_sheet": false,
    "run_control": {
     "read_only": false
    },
    "slideshow": {
     "slide_type": "fragment"
    }
   },
   "outputs": [],
   "source": [
    "from ExpectError import ExpectError"
   ]
  },
  {
   "cell_type": "code",
   "execution_count": 29,
   "metadata": {
    "button": false,
    "new_sheet": false,
    "run_control": {
     "read_only": false
    },
    "slideshow": {
     "slide_type": "fragment"
    }
   },
   "outputs": [
    {
     "name": "stderr",
     "output_type": "stream",
     "text": [
      "Traceback (most recent call last):\n",
      "  File \"<ipython-input-29-8c5aae65a938>\", line 2, in <module>\n",
      "    sqrt_program(\"xyzzy\")\n",
      "  File \"<ipython-input-26-ea86281b33cf>\", line 2, in sqrt_program\n",
      "    x = int(arg)\n",
      "ValueError: invalid literal for int() with base 10: 'xyzzy' (expected)\n"
     ]
    }
   ],
   "source": [
    "with ExpectError():\n",
    "    sqrt_program(\"xyzzy\")"
   ]
  },
  {
   "cell_type": "markdown",
   "metadata": {
    "button": false,
    "new_sheet": false,
    "run_control": {
     "read_only": false
    },
    "slideshow": {
     "slide_type": "subslide"
    }
   },
   "source": [
    "这是一个还会检查输入错误的版本："
   ]
  },
  {
   "cell_type": "code",
   "execution_count": 30,
   "metadata": {
    "button": false,
    "new_sheet": false,
    "run_control": {
     "read_only": false
    },
    "slideshow": {
     "slide_type": "fragment"
    }
   },
   "outputs": [],
   "source": [
    "def sqrt_program(arg):\n",
    "    try:\n",
    "        x = float(arg)\n",
    "    except ValueError:\n",
    "        print(\"Illegal Input\")\n",
    "    else:\n",
    "        if x < 0:\n",
    "            print(\"Illegal Number\")\n",
    "        else:\n",
    "            print('The root of', x, 'is', my_sqrt(x))"
   ]
  },
  {
   "cell_type": "code",
   "execution_count": 31,
   "metadata": {
    "button": false,
    "new_sheet": false,
    "run_control": {
     "read_only": false
    },
    "slideshow": {
     "slide_type": "fragment"
    }
   },
   "outputs": [
    {
     "name": "stdout",
     "output_type": "stream",
     "text": [
      "The root of 4.0 is 2.0\n"
     ]
    }
   ],
   "source": [
    "sqrt_program(\"4\")"
   ]
  },
  {
   "cell_type": "code",
   "execution_count": 32,
   "metadata": {
    "button": false,
    "new_sheet": false,
    "run_control": {
     "read_only": false
    },
    "slideshow": {
     "slide_type": "fragment"
    }
   },
   "outputs": [
    {
     "name": "stdout",
     "output_type": "stream",
     "text": [
      "Illegal Number\n"
     ]
    }
   ],
   "source": [
    "sqrt_program(\"-1\")"
   ]
  },
  {
   "cell_type": "code",
   "execution_count": 33,
   "metadata": {
    "button": false,
    "new_sheet": false,
    "run_control": {
     "read_only": false
    },
    "slideshow": {
     "slide_type": "fragment"
    }
   },
   "outputs": [
    {
     "name": "stdout",
     "output_type": "stream",
     "text": [
      "Illegal Input\n"
     ]
    }
   ],
   "source": [
    "sqrt_program(\"xyzzy\")"
   ]
  },
  {
   "cell_type": "markdown",
   "metadata": {
    "button": false,
    "new_sheet": false,
    "run_control": {
     "read_only": false
    },
    "slideshow": {
     "slide_type": "subslide"
    }
   },
   "source": [
    "现在我们已经看到，在系统级别，程序必须能够优雅地处理任何类型的输入，而永远不会进入不受控制的状态。当然，这对程序员来说是负担，他们必须努力使自己的程序在所有情况下都健壮起来。但是，这种负担在生成软件测试时是值得的：如果程序可以处理任何类型的输入（可能带有定义明确的错误消息），我们也可以_发送任何类型的输入_。但是，当使用生成的值调用函数时，我们必须知道其确切的前提条件。"
   ]
  },
  {
   "cell_type": "markdown",
   "metadata": {
    "button": false,
    "new_sheet": false,
    "run_control": {
     "read_only": false
    },
    "slideshow": {
     "slide_type": "slide"
    }
   },
   "source": [
    "## 测试的局限性\n",
    "\n",
    "尽管在测试方面付出了最大的努力，但请记住，你始终在检查一组有限输入的功能。因此，可能总是有_没有测试过的_ 输入，其函数可能仍然执行失败。"
   ]
  },
  {
   "cell_type": "markdown",
   "metadata": {
    "button": false,
    "new_sheet": false,
    "run_control": {
     "read_only": false
    },
    "slideshow": {
     "slide_type": "subslide"
    }
   },
   "source": [
    "比如，在 `my_sqrt()` 函数中，计算 $\\sqrt{0}$ 的值会有除0操作："
   ]
  },
  {
   "cell_type": "code",
   "execution_count": 34,
   "metadata": {
    "button": false,
    "new_sheet": false,
    "run_control": {
     "read_only": false
    },
    "slideshow": {
     "slide_type": "fragment"
    }
   },
   "outputs": [
    {
     "name": "stderr",
     "output_type": "stream",
     "text": [
      "Traceback (most recent call last):\n",
      "  File \"<ipython-input-34-24ede1f53910>\", line 2, in <module>\n",
      "    root = my_sqrt(0)\n",
      "  File \"<ipython-input-1-47185ad159a1>\", line 7, in my_sqrt\n",
      "    guess = (approx + x / approx) / 2\n",
      "ZeroDivisionError: float division by zero (expected)\n"
     ]
    }
   ],
   "source": [
    "with ExpectError():\n",
    "    root = my_sqrt(0)"
   ]
  },
  {
   "cell_type": "markdown",
   "metadata": {
    "button": false,
    "new_sheet": false,
    "run_control": {
     "read_only": false
    },
    "slideshow": {
     "slide_type": "subslide"
    }
   },
   "source": [
    "到目前为止，在我们的测试中，我们尚未检查此条件，这意味着以$ \\ sqrt {0} = 0 $为基础的程序将意外失败。但是，即使我们已经设置了随机生成器以产生0–1000000而不是1–1000000的输入，它随机产生零值的机会仍然是百万分之一。如果对于几个单独的值，函数的行为完全不同，则纯随机测试几乎没有机会产生这些值。"
   ]
  },
  {
   "cell_type": "markdown",
   "metadata": {
    "button": false,
    "new_sheet": false,
    "run_control": {
     "read_only": false
    },
    "slideshow": {
     "slide_type": "subslide"
    }
   },
   "source": [
    "当然，我们可以相应地修复该函数，记录 x接受的值并处理当 `x=0` 的特殊情况："
   ]
  },
  {
   "cell_type": "code",
   "execution_count": 35,
   "metadata": {
    "button": false,
    "new_sheet": false,
    "run_control": {
     "read_only": false
    },
    "slideshow": {
     "slide_type": "fragment"
    }
   },
   "outputs": [],
   "source": [
    "def my_sqrt_fixed(x):\n",
    "    assert 0 <= x\n",
    "    if x == 0:\n",
    "        return 0\n",
    "    return my_sqrt(x)"
   ]
  },
  {
   "cell_type": "markdown",
   "metadata": {
    "button": false,
    "new_sheet": false,
    "run_control": {
     "read_only": false
    },
    "slideshow": {
     "slide_type": "fragment"
    }
   },
   "source": [
    "With this, we can now correctly compute $\\sqrt{0} = 0$:"
   ]
  },
  {
   "cell_type": "code",
   "execution_count": 36,
   "metadata": {
    "button": false,
    "new_sheet": false,
    "run_control": {
     "read_only": false
    },
    "slideshow": {
     "slide_type": "fragment"
    }
   },
   "outputs": [],
   "source": [
    "assert my_sqrt_fixed(0) == 0"
   ]
  },
  {
   "cell_type": "markdown",
   "metadata": {
    "button": false,
    "new_sheet": false,
    "run_control": {
     "read_only": false
    },
    "slideshow": {
     "slide_type": "subslide"
    }
   },
   "source": [
    "Illegal values now result in an exception:\n"
   ]
  },
  {
   "cell_type": "code",
   "execution_count": 37,
   "metadata": {
    "button": false,
    "new_sheet": false,
    "run_control": {
     "read_only": false
    },
    "slideshow": {
     "slide_type": "fragment"
    }
   },
   "outputs": [
    {
     "name": "stderr",
     "output_type": "stream",
     "text": [
      "Traceback (most recent call last):\n",
      "  File \"<ipython-input-37-55b1caf1586a>\", line 2, in <module>\n",
      "    root = my_sqrt_fixed(-1)\n",
      "  File \"<ipython-input-35-f3e21e80ddfb>\", line 2, in my_sqrt_fixed\n",
      "    assert 0 <= x\n",
      "AssertionError (expected)\n"
     ]
    }
   ],
   "source": [
    "with ExpectError():\n",
    "    root = my_sqrt_fixed(-1)"
   ]
  },
  {
   "cell_type": "markdown",
   "metadata": {
    "button": false,
    "new_sheet": false,
    "run_control": {
     "read_only": false
    },
    "slideshow": {
     "slide_type": "subslide"
    }
   },
   "source": [
    "Still, we have to remember that while extensive testing may give us a high confidence into the correctness of a program, it does not provide a guarantee that all future executions will be correct.  Even run-time verification, which checks every result, can only guarantee that _if_ it produces a result, the result will be correct; but there is no guarantee that future executions may not lead to a failing check.  As I am writing this, I _believe_ that `my_sqrt_fixed(x)` is a correct implementation of $\\sqrt{x}$, but I cannot be 100% certain."
   ]
  },
  {
   "cell_type": "markdown",
   "metadata": {
    "button": false,
    "new_sheet": false,
    "run_control": {
     "read_only": false
    },
    "slideshow": {
     "slide_type": "subslide"
    }
   },
   "source": [
    "With the Newton-Raphson method, we may still have a good chance of actually _proving_ that the implementation is correct: The implementation is simple, the math is well-understood.  Alas, this is only the case for few domains.  If we do not want to go into full-fledged correctness proofs, our best chance with testing is to \n",
    "\n",
    "1. Test the program on several, well-chosen inputs; and\n",
    "2. Check results extensively and automatically.\n",
    "\n",
    "This is what we do in the remainder of this course: Devise techniques that help us to thoroughly test a program, as well as techniques that help us checking its state for correctness.  Enjoy!"
   ]
  },
  {
   "cell_type": "markdown",
   "metadata": {
    "run_control": {},
    "slideshow": {
     "slide_type": "slide"
    }
   },
   "source": [
    "## 小结\n",
    "\n",
    "* The aim of testing is to execute a program such that we find bugs.\n",
    "* Test execution, test generation, and checking test results can be automated.\n",
    "* Testing is _incomplete_; it provides no 100% guarantee that the code is free of errors."
   ]
  },
  {
   "cell_type": "markdown",
   "metadata": {
    "button": false,
    "new_sheet": false,
    "run_control": {
     "read_only": false
    },
    "slideshow": {
     "slide_type": "skip"
    }
   },
   "source": [
    "## 下一步\n",
    "\n",
    "From here, you can move on how to\n",
    "\n",
    "* [use _fuzzing_ to test programs with random inputs](Fuzzer.ipynb)\n",
    "\n",
    "Enjoy the read!"
   ]
  },
  {
   "cell_type": "markdown",
   "metadata": {
    "slideshow": {
     "slide_type": "slide"
    }
   },
   "source": [
    "## 背景"
   ]
  },
  {
   "cell_type": "markdown",
   "metadata": {
    "slideshow": {
     "slide_type": "fragment"
    }
   },
   "source": [
    "There is a large number of works on software testing and analysis.  For this book, we are happy to recommend \"Software Testing and Analysis\" \\cite{Pezze2008} as an introduction to the field; its strong technical focus very well fits our methodology.  Other important must-reads with a comprehensive approach to software testing, including psychology and organization, include \"The Art of Software Testing\" \\cite{Myers2004} as well as \"Software Testing Techniques\" \\cite{Beizer1990}."
   ]
  },
  {
   "cell_type": "markdown",
   "metadata": {
    "button": false,
    "new_sheet": false,
    "run_control": {
     "read_only": false
    },
    "slideshow": {
     "slide_type": "slide"
    }
   },
   "source": [
    "## 小练习"
   ]
  },
  {
   "cell_type": "markdown",
   "metadata": {
    "button": false,
    "new_sheet": false,
    "run_control": {
     "read_only": false
    },
    "slideshow": {
     "slide_type": "subslide"
    }
   },
   "source": [
    "### 练习 1: 测试希尔排序\n",
    "\n",
    "Consider the following implementation of a [Shellsort](https://en.wikipedia.org/wiki/Shellsort) function, taking a list of elements and (presumably) sorting it."
   ]
  },
  {
   "cell_type": "code",
   "execution_count": 38,
   "metadata": {
    "slideshow": {
     "slide_type": "subslide"
    }
   },
   "outputs": [],
   "source": [
    "def shellsort(elems):\n",
    "    sorted_elems = elems.copy()\n",
    "    gaps = [701, 301, 132, 57, 23, 10, 4, 1]\n",
    "    for gap in gaps:\n",
    "        for i in range(gap, len(sorted_elems)):\n",
    "            temp = sorted_elems[i]\n",
    "            j = i\n",
    "            while j >= gap and sorted_elems[j - gap] > temp:\n",
    "                sorted_elems[j] = sorted_elems[j - gap]\n",
    "                j -= gap\n",
    "            sorted_elems[j] = temp\n",
    "\n",
    "    return sorted_elems"
   ]
  },
  {
   "cell_type": "markdown",
   "metadata": {
    "slideshow": {
     "slide_type": "fragment"
    }
   },
   "source": [
    "A first test indicates that `shellsort()` might actually work:"
   ]
  },
  {
   "cell_type": "code",
   "execution_count": 39,
   "metadata": {
    "slideshow": {
     "slide_type": "subslide"
    }
   },
   "outputs": [
    {
     "data": {
      "text/plain": [
       "[1, 2, 3]"
      ]
     },
     "execution_count": 39,
     "metadata": {},
     "output_type": "execute_result"
    }
   ],
   "source": [
    "shellsort([3, 2, 1])"
   ]
  },
  {
   "cell_type": "markdown",
   "metadata": {
    "slideshow": {
     "slide_type": "fragment"
    }
   },
   "source": [
    "The implementation uses a _list_ as argument `elems` (which it copies into `sorted_elems`) as well as for the fixed list `gaps`.  Lists work like _arrays_ in other languages:"
   ]
  },
  {
   "cell_type": "code",
   "execution_count": 40,
   "metadata": {
    "slideshow": {
     "slide_type": "fragment"
    }
   },
   "outputs": [
    {
     "name": "stdout",
     "output_type": "stream",
     "text": [
      "First element: 5 length: 4\n"
     ]
    }
   ],
   "source": [
    "a = [5, 6, 99, 7]\n",
    "print(\"First element:\", a[0], \"length:\", len(a))"
   ]
  },
  {
   "cell_type": "markdown",
   "metadata": {
    "slideshow": {
     "slide_type": "fragment"
    }
   },
   "source": [
    "The `range()` function returns an iterable list of elements.  It is often used in conjunction with `for` loops, as in the above implementation."
   ]
  },
  {
   "cell_type": "code",
   "execution_count": 41,
   "metadata": {
    "slideshow": {
     "slide_type": "subslide"
    }
   },
   "outputs": [
    {
     "name": "stdout",
     "output_type": "stream",
     "text": [
      "1\n",
      "2\n",
      "3\n",
      "4\n"
     ]
    }
   ],
   "source": [
    "for x in range(1, 5):\n",
    "    print(x)"
   ]
  },
  {
   "cell_type": "markdown",
   "metadata": {
    "slideshow": {
     "slide_type": "subslide"
    }
   },
   "source": [
    "#### 第1部分: 手写测试用例"
   ]
  },
  {
   "cell_type": "markdown",
   "metadata": {
    "slideshow": {
     "slide_type": "fragment"
    }
   },
   "source": [
    "Your job is now to thoroughly test `shellsort()` with a variety of inputs."
   ]
  },
  {
   "cell_type": "markdown",
   "metadata": {
    "slideshow": {
     "slide_type": "fragment"
    },
    "solution2": "hidden",
    "solution2_first": true
   },
   "source": [
    "First, set up `assert` statements with a number of manually written test cases.  Select your test cases such that extreme cases are covered.  Use `==` to compare two lists."
   ]
  },
  {
   "cell_type": "markdown",
   "metadata": {
    "slideshow": {
     "slide_type": "skip"
    },
    "solution2": "hidden"
   },
   "source": [
    "**解决方案.** Here are a few selected test cases:"
   ]
  },
  {
   "cell_type": "code",
   "execution_count": 42,
   "metadata": {
    "cell_style": "split",
    "slideshow": {
     "slide_type": "skip"
    },
    "solution2": "hidden"
   },
   "outputs": [],
   "source": [
    "# Standard lists\n",
    "assert shellsort([3, 2, 1]) == [1, 2, 3]\n",
    "assert shellsort([1, 2, 3, 4]) == [1, 2, 3, 4]\n",
    "assert shellsort([6, 5]) == [5, 6]"
   ]
  },
  {
   "cell_type": "code",
   "execution_count": 43,
   "metadata": {
    "cell_style": "split",
    "slideshow": {
     "slide_type": "skip"
    },
    "solution2": "hidden"
   },
   "outputs": [],
   "source": [
    "# Check for duplicates\n",
    "assert shellsort([2, 2, 1]) == [1, 2, 2]"
   ]
  },
  {
   "cell_type": "code",
   "execution_count": 44,
   "metadata": {
    "cell_style": "split",
    "slideshow": {
     "slide_type": "skip"
    },
    "solution2": "hidden"
   },
   "outputs": [],
   "source": [
    "# Empty list\n",
    "assert shellsort([]) == []"
   ]
  },
  {
   "cell_type": "markdown",
   "metadata": {
    "slideshow": {
     "slide_type": "subslide"
    }
   },
   "source": [
    "#### 第2部分: 随机生成输入"
   ]
  },
  {
   "cell_type": "markdown",
   "metadata": {
    "slideshow": {
     "slide_type": "fragment"
    }
   },
   "source": [
    "Second, create random lists as arguments to `shellsort()`.   Make use of the following helper predicates to check whether the result is (a) sorted, and (b) a permutation of the original."
   ]
  },
  {
   "cell_type": "code",
   "execution_count": 45,
   "metadata": {
    "slideshow": {
     "slide_type": "fragment"
    }
   },
   "outputs": [],
   "source": [
    "def is_sorted(elems):\n",
    "    return all(elems[i] <= elems[i + 1] for i in range(len(elems) - 1))"
   ]
  },
  {
   "cell_type": "code",
   "execution_count": 46,
   "metadata": {
    "slideshow": {
     "slide_type": "fragment"
    }
   },
   "outputs": [
    {
     "data": {
      "text/plain": [
       "True"
      ]
     },
     "execution_count": 46,
     "metadata": {},
     "output_type": "execute_result"
    }
   ],
   "source": [
    "is_sorted([3, 5, 9])"
   ]
  },
  {
   "cell_type": "code",
   "execution_count": 47,
   "metadata": {
    "slideshow": {
     "slide_type": "fragment"
    }
   },
   "outputs": [],
   "source": [
    "def is_permutation(a, b):\n",
    "    return len(a) == len(b) and all(a.count(elem) == b.count(elem) for elem in a)"
   ]
  },
  {
   "cell_type": "code",
   "execution_count": 48,
   "metadata": {
    "slideshow": {
     "slide_type": "fragment"
    }
   },
   "outputs": [
    {
     "data": {
      "text/plain": [
       "True"
      ]
     },
     "execution_count": 48,
     "metadata": {},
     "output_type": "execute_result"
    }
   ],
   "source": [
    "is_permutation([3, 2, 1], [1, 3, 2])"
   ]
  },
  {
   "cell_type": "markdown",
   "metadata": {
    "slideshow": {
     "slide_type": "subslide"
    },
    "solution2": "hidden",
    "solution2_first": true
   },
   "source": [
    "Start with a random list generator, using `[]` as the empty list and `elems.append(x)` to append an element `x` to the list `elems`.  Use the above helper functions to assess the results.  Generate and test 1,000 lists."
   ]
  },
  {
   "cell_type": "markdown",
   "metadata": {
    "slideshow": {
     "slide_type": "skip"
    },
    "solution2": "hidden"
   },
   "source": [
    "**解决方案.** Here's a simple random list generator:"
   ]
  },
  {
   "cell_type": "code",
   "execution_count": 49,
   "metadata": {
    "slideshow": {
     "slide_type": "skip"
    },
    "solution2": "hidden"
   },
   "outputs": [],
   "source": [
    "def random_list():\n",
    "    length = random.randint(1, 10)\n",
    "    elems = []\n",
    "    for i in range(length):\n",
    "        elems.append(random.randint(0, 100))\n",
    "    return elems"
   ]
  },
  {
   "cell_type": "code",
   "execution_count": 50,
   "metadata": {
    "slideshow": {
     "slide_type": "skip"
    },
    "solution2": "hidden"
   },
   "outputs": [
    {
     "data": {
      "text/plain": [
       "[61, 23, 61, 68]"
      ]
     },
     "execution_count": 50,
     "metadata": {},
     "output_type": "execute_result"
    }
   ],
   "source": [
    "random_list()"
   ]
  },
  {
   "cell_type": "code",
   "execution_count": 51,
   "metadata": {
    "slideshow": {
     "slide_type": "skip"
    },
    "solution2": "hidden"
   },
   "outputs": [
    {
     "name": "stdout",
     "output_type": "stream",
     "text": [
      "[51, 47, 88, 14, 38]\n"
     ]
    }
   ],
   "source": [
    "elems = random_list()\n",
    "print(elems)"
   ]
  },
  {
   "cell_type": "code",
   "execution_count": 52,
   "metadata": {
    "slideshow": {
     "slide_type": "skip"
    },
    "solution2": "hidden"
   },
   "outputs": [
    {
     "name": "stdout",
     "output_type": "stream",
     "text": [
      "[14, 38, 47, 51, 88]\n"
     ]
    }
   ],
   "source": [
    "sorted_elems = shellsort(elems)\n",
    "print(sorted_elems)"
   ]
  },
  {
   "cell_type": "code",
   "execution_count": 53,
   "metadata": {
    "slideshow": {
     "slide_type": "skip"
    },
    "solution2": "hidden"
   },
   "outputs": [],
   "source": [
    "assert is_sorted(sorted_elems) and is_permutation(sorted_elems, elems)"
   ]
  },
  {
   "cell_type": "markdown",
   "metadata": {
    "slideshow": {
     "slide_type": "skip"
    },
    "solution2": "hidden"
   },
   "source": [
    "Here's the test for 1,000 lists:"
   ]
  },
  {
   "cell_type": "code",
   "execution_count": 54,
   "metadata": {
    "slideshow": {
     "slide_type": "skip"
    },
    "solution2": "hidden"
   },
   "outputs": [],
   "source": [
    "for i in range(1000):\n",
    "    elems = random_list()\n",
    "    sorted_elems = shellsort(elems)\n",
    "    assert is_sorted(sorted_elems) and is_permutation(sorted_elems, elems)"
   ]
  },
  {
   "cell_type": "markdown",
   "metadata": {
    "slideshow": {
     "slide_type": "subslide"
    }
   },
   "source": [
    "### 练习 2: 求根公式"
   ]
  },
  {
   "cell_type": "markdown",
   "metadata": {
    "slideshow": {
     "slide_type": "fragment"
    }
   },
   "source": [
    "Given an equation $ax^2 + bx + c = 0$, we want to find solutions for $x$ given the values of $a$, $b$, and $c$.  The following code is supposed to do this, using the equation $$x = \\frac{-b \\pm \\sqrt{b^2 - 4ac}}{2a}$$"
   ]
  },
  {
   "cell_type": "code",
   "execution_count": 55,
   "metadata": {
    "slideshow": {
     "slide_type": "fragment"
    }
   },
   "outputs": [],
   "source": [
    "def quadratic_solver(a, b, c):\n",
    "    q = b * b - 4 * a * c\n",
    "    solution_1 = (-b + my_sqrt_fixed(q)) / (2 * a)\n",
    "    solution_2 = (-b - my_sqrt_fixed(q)) / (2 * a)\n",
    "    return (solution_1, solution_2)"
   ]
  },
  {
   "cell_type": "code",
   "execution_count": 56,
   "metadata": {
    "slideshow": {
     "slide_type": "fragment"
    }
   },
   "outputs": [
    {
     "data": {
      "text/plain": [
       "(-0.3333333333333333, -1.0)"
      ]
     },
     "execution_count": 56,
     "metadata": {},
     "output_type": "execute_result"
    }
   ],
   "source": [
    "quadratic_solver(3, 4, 1)"
   ]
  },
  {
   "cell_type": "markdown",
   "metadata": {
    "slideshow": {
     "slide_type": "subslide"
    }
   },
   "source": [
    "The above implementation is incomplete, though.  You can trigger \n",
    "\n",
    "1. a division by zero; and\n",
    "2. violate the precondition of `my_sqrt_fixed()`.\n",
    "\n",
    "How does one do that, and how can one prevent this?"
   ]
  },
  {
   "cell_type": "markdown",
   "metadata": {
    "slideshow": {
     "slide_type": "subslide"
    },
    "solution2": "hidden",
    "solution2_first": true
   },
   "source": [
    "#### 第1部分: 寻找能触发bug的测试用例\n",
    "\n",
    "For each of the two cases above, identify values for `a`, `b`, `c` that trigger the bug."
   ]
  },
  {
   "cell_type": "markdown",
   "metadata": {
    "slideshow": {
     "slide_type": "skip"
    },
    "solution2": "hidden"
   },
   "source": [
    "**解决方案**.  Here are two inputs that trigger the bugs:"
   ]
  },
  {
   "cell_type": "code",
   "execution_count": 57,
   "metadata": {
    "slideshow": {
     "slide_type": "skip"
    },
    "solution2": "hidden"
   },
   "outputs": [
    {
     "name": "stderr",
     "output_type": "stream",
     "text": [
      "Traceback (most recent call last):\n",
      "  File \"<ipython-input-57-d23ed48ac7b4>\", line 2, in <module>\n",
      "    print(quadratic_solver(3, 2, 1))\n",
      "  File \"<ipython-input-55-54638f6c293f>\", line 3, in quadratic_solver\n",
      "    solution_1 = (-b + my_sqrt_fixed(q)) / (2 * a)\n",
      "  File \"<ipython-input-35-f3e21e80ddfb>\", line 2, in my_sqrt_fixed\n",
      "    assert 0 <= x\n",
      "AssertionError (expected)\n"
     ]
    }
   ],
   "source": [
    "with ExpectError():\n",
    "    print(quadratic_solver(3, 2, 1))"
   ]
  },
  {
   "cell_type": "code",
   "execution_count": 58,
   "metadata": {
    "slideshow": {
     "slide_type": "skip"
    },
    "solution2": "hidden"
   },
   "outputs": [
    {
     "name": "stderr",
     "output_type": "stream",
     "text": [
      "Traceback (most recent call last):\n",
      "  File \"<ipython-input-58-f797613c5ebb>\", line 2, in <module>\n",
      "    print(quadratic_solver(0, 0, 1))\n",
      "  File \"<ipython-input-55-54638f6c293f>\", line 3, in quadratic_solver\n",
      "    solution_1 = (-b + my_sqrt_fixed(q)) / (2 * a)\n",
      "ZeroDivisionError: division by zero (expected)\n"
     ]
    }
   ],
   "source": [
    "with ExpectError():\n",
    "    print(quadratic_solver(0, 0, 1))"
   ]
  },
  {
   "cell_type": "markdown",
   "metadata": {
    "slideshow": {
     "slide_type": "subslide"
    },
    "solution2": "hidden",
    "solution2_first": true
   },
   "source": [
    "#### 第2部分: 修正上面的问题\n",
    "\n",
    "Extend the code appropriately such that the cases are handled.  Return `None` for nonexistent values."
   ]
  },
  {
   "cell_type": "markdown",
   "metadata": {
    "slideshow": {
     "slide_type": "skip"
    },
    "solution2": "hidden"
   },
   "source": [
    "**解决方案.** Here is an appropriate extension of `quadratic_solver()` that takes care of all the corner cases:"
   ]
  },
  {
   "cell_type": "code",
   "execution_count": 59,
   "metadata": {
    "slideshow": {
     "slide_type": "skip"
    },
    "solution2": "hidden"
   },
   "outputs": [],
   "source": [
    "def quadratic_solver_fixed(a, b, c):\n",
    "    if a == 0:\n",
    "        if b == 0:\n",
    "            if c == 0:\n",
    "                # Actually, any value of x\n",
    "                return (0, None)\n",
    "            else:\n",
    "                # No value of x can satisfy c = 0\n",
    "                return (None, None)\n",
    "        else:\n",
    "            return (-c / b, None)\n",
    "\n",
    "    q = b * b - 4 * a * c\n",
    "    if q < 0:\n",
    "        return (None, None)\n",
    "\n",
    "    if q == 0:\n",
    "        solution = -b / 2 * a\n",
    "        return (solution, None)\n",
    "\n",
    "    solution_1 = (-b + my_sqrt_fixed(q)) / (2 * a)\n",
    "    solution_2 = (-b - my_sqrt_fixed(q)) / (2 * a)\n",
    "    return (solution_1, solution_2)"
   ]
  },
  {
   "cell_type": "code",
   "execution_count": 60,
   "metadata": {
    "slideshow": {
     "slide_type": "skip"
    },
    "solution2": "hidden"
   },
   "outputs": [
    {
     "name": "stdout",
     "output_type": "stream",
     "text": [
      "(None, None)\n"
     ]
    }
   ],
   "source": [
    "with ExpectError():\n",
    "    print(quadratic_solver_fixed(3, 2, 1))"
   ]
  },
  {
   "cell_type": "code",
   "execution_count": 61,
   "metadata": {
    "slideshow": {
     "slide_type": "skip"
    },
    "solution2": "hidden"
   },
   "outputs": [
    {
     "name": "stdout",
     "output_type": "stream",
     "text": [
      "(None, None)\n"
     ]
    }
   ],
   "source": [
    "with ExpectError():\n",
    "    print(quadratic_solver_fixed(0, 0, 1))"
   ]
  },
  {
   "cell_type": "markdown",
   "metadata": {
    "slideshow": {
     "slide_type": "subslide"
    },
    "solution2": "hidden",
    "solution2_first": true
   },
   "source": [
    "#### 第3部分: Odds and Ends\n",
    "\n",
    "What are the chances of discovering these conditions with random inputs?  Assuming one can do a billion tests per second, how long would one have to wait on average until a bug gets triggered?"
   ]
  },
  {
   "cell_type": "markdown",
   "metadata": {
    "slideshow": {
     "slide_type": "skip"
    },
    "solution2": "hidden"
   },
   "source": [
    "**解决方案.**  Consider the code above.  If we choose the full range of 32-bit integers for `a`, `b`, and `c`, then the first condition alone, both `a` and `b` being zero, has a chance of $p = 1 / (2^{32} * 2^{32})$; that is, one in 18.4 quintillions:"
   ]
  },
  {
   "cell_type": "code",
   "execution_count": 62,
   "metadata": {
    "slideshow": {
     "slide_type": "skip"
    },
    "solution2": "hidden"
   },
   "outputs": [
    {
     "data": {
      "text/plain": [
       "18446744073709551616"
      ]
     },
     "execution_count": 62,
     "metadata": {},
     "output_type": "execute_result"
    }
   ],
   "source": [
    "combinations = 2 ** 32 * 2 ** 32\n",
    "combinations"
   ]
  },
  {
   "cell_type": "markdown",
   "metadata": {
    "slideshow": {
     "slide_type": "skip"
    },
    "solution2": "hidden"
   },
   "source": [
    "If we can do a billion tests per second, how many years would we have to wait?"
   ]
  },
  {
   "cell_type": "code",
   "execution_count": 63,
   "metadata": {
    "slideshow": {
     "slide_type": "skip"
    },
    "solution2": "hidden"
   },
   "outputs": [
    {
     "data": {
      "text/plain": [
       "584.5420460906264"
      ]
     },
     "execution_count": 63,
     "metadata": {},
     "output_type": "execute_result"
    }
   ],
   "source": [
    "tests_per_second = 1000000000\n",
    "seconds_per_year = 60 * 60 * 24 * 365.25\n",
    "tests_per_year = tests_per_second * seconds_per_year\n",
    "combinations / tests_per_year"
   ]
  },
  {
   "cell_type": "markdown",
   "metadata": {
    "slideshow": {
     "slide_type": "skip"
    },
    "solution2": "hidden"
   },
   "source": [
    "We see that on average, we'd have to wait for 584 years.  Clearly, pure random choices are not sufficient as sole testing strategy."
   ]
  }
 ],
 "metadata": {
  "ipub": {
   "bibliography": "fuzzingbook.bib",
   "toc": true
  },
  "kernelspec": {
   "display_name": "Python 3",
   "language": "python",
   "name": "python3"
  },
  "language_info": {
   "codemirror_mode": {
    "name": "ipython",
    "version": 3
   },
   "file_extension": ".py",
   "mimetype": "text/x-python",
   "name": "python",
   "nbconvert_exporter": "python",
   "pygments_lexer": "ipython3",
   "version": "3.7.1"
  },
  "toc": {
   "base_numbering": 1,
   "nav_menu": {},
   "number_sections": true,
   "sideBar": true,
   "skip_h1_title": true,
   "title_cell": "",
   "title_sidebar": "Contents",
   "toc_cell": false,
   "toc_position": {},
   "toc_section_display": true,
   "toc_window_display": true
  },
  "toc-autonumbering": false,
  "toc-showtags": false
 },
 "nbformat": 4,
 "nbformat_minor": 2
}
