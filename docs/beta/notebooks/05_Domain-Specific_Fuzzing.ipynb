{
 "cells": [
  {
   "cell_type": "markdown",
   "metadata": {
    "button": false,
    "new_sheet": false,
    "run_control": {
     "read_only": false
    },
    "slideshow": {
     "slide_type": "slide"
    }
   },
   "source": [
    "# Part V: 特定领域的模糊测试\n",
    "\n",
    "本部分讨论了许多特定领域的测试用例生成技术。对于所有的领域， 我们介绍了 _fuzzers_ 生成测试用例并且使用 _miners_ 分析输入的结构。\n",
    "\n",
    "* [测试配置文件](ConfigurationFuzzer.ipynb) 系统地 _tests_ and _covers_ 软件配置文件。通过 _自动推断配置选项_, 我们可以直接使用这些技术，而无需编写任何语法模板。\n",
    "\n",
    "* [模糊测试API](APIFuzzer.ipynb) 展示了如何生成直接进入各个函数的输入，从而使函数在执行时获得更好的灵活性和速度。\n",
    "\n",
    "* [辅助单元测试](Carver.ipynb) 进行系统测试，并自动提取一组 _unit tests_ 来复制在单元测试期间看到的调用。关键思想是记录这样的调用，以便我们以后可以整体或选择性地再次使用它们。\n",
    "\n",
    "* [测试Web应用](WebFuzzer.ipynb) 展示了如何系统地探索Web应用程序的行为-首先使用手写语法，然后使用从用户界面自动推断出的语法。我们还将展示如何对这些服务器进行系统的攻击，特别是通过代码和SQL注入。\n",
    "\n",
    "* [测试GUI](GUIFuzzer.ipynb) 探索如何为图形用户界面（GUI）生成测试，将其从富Web应用程序推广到移动应用程序，以及通过表单和导航元素系统地探索用户界面。"
   ]
  }
 ],
 "metadata": {
  "ipub": {
   "bibliography": "fuzzingbook.bib",
   "toc": true
  },
  "kernelspec": {
   "display_name": "Python 3",
   "language": "python",
   "name": "python3"
  },
  "language_info": {
   "codemirror_mode": {
    "name": "ipython",
    "version": 3
   },
   "file_extension": ".py",
   "mimetype": "text/x-python",
   "name": "python",
   "nbconvert_exporter": "python",
   "pygments_lexer": "ipython3",
   "version": "3.7.1"
  },
  "toc": {
   "base_numbering": 1,
   "nav_menu": {},
   "number_sections": true,
   "sideBar": true,
   "skip_h1_title": true,
   "title_cell": "",
   "title_sidebar": "Contents",
   "toc_cell": false,
   "toc_position": {},
   "toc_section_display": true,
   "toc_window_display": true
  },
  "toc-autonumbering": false
 },
 "nbformat": 4,
 "nbformat_minor": 2
}
