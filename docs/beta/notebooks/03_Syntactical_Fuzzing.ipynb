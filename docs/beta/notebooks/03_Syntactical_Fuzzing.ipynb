{
 "cells": [
  {
   "cell_type": "markdown",
   "metadata": {
    "button": false,
    "new_sheet": false,
    "run_control": {
     "read_only": false
    },
    "slideshow": {
     "slide_type": "slide"
    }
   },
   "source": [
    "# Part III: 句法模糊测试\n",
    "\n",
    "本部分介绍在 _句法_ 级别上的测试用例生成技术，也就是说，输入由语言结构组成。\n",
    "\n",
    "* [使用语法进行模糊测试](Grammars.ipynb) 为程序提供了一个 _规范_ 的合法输入。通过语法指定输入可以非常系统和有效地生成测试用例，特别是对于复杂的输入格式。\n",
    "\n",
    "* [有效的语法模糊测试](GrammarFuzzer.ipynb) 引入了基于树的语法模糊算法，该算法速度更快，并且可以更好地控制模糊输入的产生。\n",
    "\n",
    "* [语法覆盖率指导的模糊测试](GrammarCoverageFuzzer.ipynb) 允许系统地使用覆盖率和语法元素，以便我们最大限度地提高多样性，而不会漏掉单个元素。\n",
    "\n",
    "* [解析输入](Parser.ipynb) 展示了如何使用语法将给定的有效种子输入集解析和分解为相应的派生树。\n",
    "\n",
    "* [基于概率的语法模糊测试](ProbabilisticGrammarFuzzer.ipynb) 通过将_概率_分配给各个模块，这样可以让语法发挥更大的功能。\n",
    "\n",
    "* [使用生成器模糊测试](GeneratorGrammarFuzzer.ipynb) 显示了如何使用_函数_扩展语法-在语法扩展过程中执行的代码片段，可以生成、检查或更改生成的元素。\n",
    "\n",
    "* [基于语法的灰盒模糊测试](GreyboxGrammarFuzzer.ipynb) 利用结构表示法，我们可以对它们的各个部分进行变异、交叉和重组，以生成新的有效的、稍有变化的输入。\n",
    "\n",
    "* [约减导致错误的输入](Reducer.ipynb) 提出了自动减少并简化导致故障的输入技术，以简化调试过程。"
   ]
  }
 ],
 "metadata": {
  "ipub": {
   "bibliography": "fuzzingbook.bib",
   "toc": true
  },
  "kernelspec": {
   "display_name": "Python 3",
   "language": "python",
   "name": "python3"
  },
  "language_info": {
   "codemirror_mode": {
    "name": "ipython",
    "version": 3
   },
   "file_extension": ".py",
   "mimetype": "text/x-python",
   "name": "python",
   "nbconvert_exporter": "python",
   "pygments_lexer": "ipython3",
   "version": "3.7.1"
  },
  "toc": {
   "base_numbering": 1,
   "nav_menu": {},
   "number_sections": true,
   "sideBar": true,
   "skip_h1_title": true,
   "title_cell": "",
   "title_sidebar": "Contents",
   "toc_cell": false,
   "toc_position": {},
   "toc_section_display": true,
   "toc_window_display": true
  },
  "toc-autonumbering": false
 },
 "nbformat": 4,
 "nbformat_minor": 2
}
